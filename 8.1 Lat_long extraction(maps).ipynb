{
 "cells": [
  {
   "cell_type": "code",
   "execution_count": 46,
   "metadata": {},
   "outputs": [],
   "source": [
    "import pandas as pd\n",
    "import seaborn as sns\n",
    "import matplotlib.pyplot as plt\n",
    "import folium\n",
    "from geopy.geocoders import Nominatim\n",
    "%matplotlib inline"
   ]
  },
  {
   "cell_type": "code",
   "execution_count": 2,
   "metadata": {},
   "outputs": [],
   "source": [
    "data = pd.read_excel('./current.xlsx',index_col=0)"
   ]
  },
  {
   "cell_type": "code",
   "execution_count": 3,
   "metadata": {},
   "outputs": [
    {
     "data": {
      "text/html": [
       "<div>\n",
       "<style scoped>\n",
       "    .dataframe tbody tr th:only-of-type {\n",
       "        vertical-align: middle;\n",
       "    }\n",
       "\n",
       "    .dataframe tbody tr th {\n",
       "        vertical-align: top;\n",
       "    }\n",
       "\n",
       "    .dataframe thead th {\n",
       "        text-align: right;\n",
       "    }\n",
       "</style>\n",
       "<table border=\"1\" class=\"dataframe\">\n",
       "  <thead>\n",
       "    <tr style=\"text-align: right;\">\n",
       "      <th></th>\n",
       "      <th>title</th>\n",
       "      <th>location</th>\n",
       "      <th>price(L)</th>\n",
       "      <th>rate_persqft</th>\n",
       "      <th>area_insqft</th>\n",
       "      <th>building_status</th>\n",
       "      <th>agent_rating</th>\n",
       "    </tr>\n",
       "  </thead>\n",
       "  <tbody>\n",
       "    <tr>\n",
       "      <th>0</th>\n",
       "      <td>Residential Plot</td>\n",
       "      <td>Maheshwaram</td>\n",
       "      <td>45.00</td>\n",
       "      <td>1111</td>\n",
       "      <td>4050</td>\n",
       "      <td>New</td>\n",
       "      <td>4.6</td>\n",
       "    </tr>\n",
       "    <tr>\n",
       "      <th>1</th>\n",
       "      <td>Residential Plot</td>\n",
       "      <td>Kondakal</td>\n",
       "      <td>34.00</td>\n",
       "      <td>2361</td>\n",
       "      <td>1440</td>\n",
       "      <td>New</td>\n",
       "      <td>3.7</td>\n",
       "    </tr>\n",
       "    <tr>\n",
       "      <th>2</th>\n",
       "      <td>Residential Plot</td>\n",
       "      <td>Bibinagar</td>\n",
       "      <td>14.19</td>\n",
       "      <td>944</td>\n",
       "      <td>1503</td>\n",
       "      <td>New</td>\n",
       "      <td>4.9</td>\n",
       "    </tr>\n",
       "    <tr>\n",
       "      <th>3</th>\n",
       "      <td>Residential Plot</td>\n",
       "      <td>Gachibowli</td>\n",
       "      <td>330.00</td>\n",
       "      <td>3333</td>\n",
       "      <td>9900</td>\n",
       "      <td>New</td>\n",
       "      <td>0.0</td>\n",
       "    </tr>\n",
       "    <tr>\n",
       "      <th>4</th>\n",
       "      <td>Residential Plot</td>\n",
       "      <td>Shadnagar</td>\n",
       "      <td>6.72</td>\n",
       "      <td>466</td>\n",
       "      <td>1440</td>\n",
       "      <td>New</td>\n",
       "      <td>4.7</td>\n",
       "    </tr>\n",
       "  </tbody>\n",
       "</table>\n",
       "</div>"
      ],
      "text/plain": [
       "              title     location  price(L)  rate_persqft  area_insqft  \\\n",
       "0  Residential Plot  Maheshwaram     45.00          1111         4050   \n",
       "1  Residential Plot     Kondakal     34.00          2361         1440   \n",
       "2  Residential Plot    Bibinagar     14.19           944         1503   \n",
       "3  Residential Plot   Gachibowli    330.00          3333         9900   \n",
       "4  Residential Plot    Shadnagar      6.72           466         1440   \n",
       "\n",
       "  building_status  agent_rating  \n",
       "0             New           4.6  \n",
       "1             New           3.7  \n",
       "2             New           4.9  \n",
       "3             New           0.0  \n",
       "4             New           4.7  "
      ]
     },
     "execution_count": 3,
     "metadata": {},
     "output_type": "execute_result"
    }
   ],
   "source": [
    "data.head()"
   ]
  },
  {
   "cell_type": "code",
   "execution_count": 4,
   "metadata": {},
   "outputs": [],
   "source": [
    "loc = data['location'].values"
   ]
  },
  {
   "cell_type": "code",
   "execution_count": 5,
   "metadata": {},
   "outputs": [
    {
     "name": "stderr",
     "output_type": "stream",
     "text": [
      "/usr/local/lib/python3.5/dist-packages/ipykernel_launcher.py:2: DeprecationWarning: Using Nominatim with the default \"geopy/1.20.0\" `user_agent` is strongly discouraged, as it violates Nominatim's ToS https://operations.osmfoundation.org/policies/nominatim/ and may possibly cause 403 and 429 HTTP errors. Please specify a custom `user_agent` with `Nominatim(user_agent=\"my-application\")` or by overriding the default `user_agent`: `geopy.geocoders.options.default_user_agent = \"my-application\"`. In geopy 2.0 this will become an exception.\n",
      "  \n"
     ]
    },
    {
     "data": {
      "text/plain": [
       "(78.4610647345315, 17.38878595)"
      ]
     },
     "execution_count": 5,
     "metadata": {},
     "output_type": "execute_result"
    }
   ],
   "source": [
    "address = \"Maheshwaram\"\n",
    "geolocator = Nominatim()\n",
    "location = geolocator.geocode(\"Hyderabad,India\")\n",
    "location.longitude,location.latitude"
   ]
  },
  {
   "cell_type": "code",
   "execution_count": 39,
   "metadata": {},
   "outputs": [],
   "source": [
    "\n",
    "def log(address): \n",
    "    try:\n",
    "        geolocator = Nominatim()\n",
    "        location = geolocator.geocode(\"{}\".format(address))\n",
    "        print(\"Info: Loaction {} of Longitude : {}\".format(location,location.longitude))        \n",
    "        return location.longitude\n",
    "    \n",
    "    except:\n",
    "        \n",
    "        pass\n",
    "    \n"
   ]
  },
  {
   "cell_type": "code",
   "execution_count": 40,
   "metadata": {},
   "outputs": [],
   "source": [
    "def lat(address): \n",
    "    try:\n",
    "        geolocator = Nominatim()\n",
    "        location = geolocator.geocode(\"{}\".format(address))\n",
    "        print(\"Info: Loaction {} of Latitude : {}\".format(location,location.latitude))\n",
    "        return location.latitude\n",
    "    except:\n",
    "        \n",
    "        pass\n",
    "    "
   ]
  },
  {
   "cell_type": "code",
   "execution_count": 41,
   "metadata": {},
   "outputs": [],
   "source": [
    "loc= pd.Series(list(data['location'].unique()))"
   ]
  },
  {
   "cell_type": "code",
   "execution_count": 35,
   "metadata": {},
   "outputs": [
    {
     "name": "stderr",
     "output_type": "stream",
     "text": [
      "/usr/local/lib/python3.5/dist-packages/ipykernel_launcher.py:4: DeprecationWarning: Using Nominatim with the default \"geopy/1.20.0\" `user_agent` is strongly discouraged, as it violates Nominatim's ToS https://operations.osmfoundation.org/policies/nominatim/ and may possibly cause 403 and 429 HTTP errors. Please specify a custom `user_agent` with `Nominatim(user_agent=\"my-application\")` or by overriding the default `user_agent`: `geopy.geocoders.options.default_user_agent = \"my-application\"`. In geopy 2.0 this will become an exception.\n",
      "  after removing the cwd from sys.path.\n"
     ]
    },
    {
     "name": "stdout",
     "output_type": "stream",
     "text": [
      "Info: Loaction Maheshwaram Lines, Ward 42 Barkas, Greater Hyderabad Municipal Corporation South Zone, Hyderabad, Rangareddy, Telangana, 500005, India of Longitude : 78.4828417\n",
      "Info: Loaction Gachibowli, Greater Hyderabad Municipal Corporation West Zone, Hyderabad, Serilingampalle mandal, Rangareddy, Telangana, 500032, India of Longitude : 78.3519638\n",
      "Info: Loaction Post Partum Unit (PPU), Shadnagar, Old NH 7 Hyderabad Road, Chandrayanguda, Nandigama mandal, Rangareddy, Telangana, 509216, India of Longitude : 78.2068956\n",
      "Info: Loaction Kondapur, Greater Hyderabad Municipal Corporation West Zone, Hyderabad, Serilingampalle mandal, Rangareddy, Telangana, 500084, India of Longitude : 78.3730556\n",
      "Info: Loaction Shaikpet, Greater Hyderabad Municipal Corporation Central Zone, Hyderabad, Shaikpet mandal, Hyderabad, Telangana, 50008, India of Longitude : 78.4006536\n",
      "Info: Loaction Sanath Nagar, Greater Hyderabad Municipal Corporation Central Zone, Hyderabad, Ameerpet mandal, Hyderabad, Telangana, 500042, India of Longitude : 78.4446705\n",
      "Info: Loaction Hitech City, Hitec - Kukatpally Main Road, Ward 116 Allapur, Greater Hyderabad Municipal Corporation West Zone, Hyderabad, Kukatpally mandal, Medchal–Malkajgiri, Telangana, 500084, India of Longitude : 78.3853779\n",
      "Info: Loaction Hyderabad Polo and Riding Club, Bangaliguda, Moinabad mandal, Rangareddy, Telangana, India of Longitude : 78.3391395908309\n",
      "Info: Loaction Puppalaguda village, Manikonda, Gandipet mandal, Rangareddy, Telangana, 500089, India of Longitude : 78.3861896794107\n",
      "Info: Loaction LB Nagar, Greater Hyderabad Municipal Corporation East Zone, Hyderabad, Saroornagar mandal, Rangareddy, Telangana, 500074, India of Longitude : 78.5510938\n",
      "Info: Loaction Wipro - Nanakramguda Jn, Wipro Circle, Ward 105 Gachibowli, Greater Hyderabad Municipal Corporation West Zone, Hyderabad, Serilingampalle mandal, Rangareddy, Telangana, 500 032, India of Longitude : 78.3405519\n",
      "Info: Loaction Osman Nagar Road, Tellapur, Ward 105 Gachibowli, Greater Hyderabad Municipal Corporation West Zone, Hyderabad, Ramachandrapuram mandal, Sangareddy, Telangana, 500107, India of Longitude : 78.2905747\n",
      "Info: Loaction Auto Nagar, Ward 12 Mansoorabad, Greater Hyderabad Municipal Corporation East Zone, Hyderabad, Abdullapurmet mandal, Rangareddy, Telangana, 500070, India of Longitude : 78.5785756\n",
      "Info: Loaction Yapral, Greater Hyderabad Municipal Corporation North Zone, Hyderabad, Alwal mandal, Medchal–Malkajgiri, Telangana, 500087, India of Longitude : 78.5407976\n",
      "Info: Loaction Osman Sagar, Kanchi Gachibowli Road, Ward 105 Gachibowli, Greater Hyderabad Municipal Corporation West Zone, Hyderabad, Gandipet mandal, Rangareddy, Telangana, 500107, India of Longitude : 78.302771868377\n",
      "Info: Loaction Hyderabad, Pune - Machilipatnam Highway, Kothur Patti Digwal, Kohir mandal, Sangareddy, Telangana, 502321, India of Longitude : 77.7569198\n",
      "Info: Loaction Hyderabad Road, Nizamabad_Rural mandal, Nizamabad, Telangana, 503003, India of Longitude : 78.1477148\n",
      "Info: Loaction Old NH 7 Hyderabad Road, Chandrayanguda, Nandigama mandal, Rangareddy, Telangana, 509216, India of Longitude : 78.2210276\n",
      "Info: Loaction Patancheru, Greater Hyderabad Municipal Corporation West Zone, Hyderabad, Patancheruvu mandal, Sangareddy, Telangana, 502319, India of Longitude : 78.2674254\n",
      "Info: Loaction Hyderabad House, NH44, Madhura Nagar, Shamshabad, Shamshabad mandal, Rangareddy, Telangana, 509218, India of Longitude : 78.3863347\n",
      "Info: Loaction Nallagandla, Ward 105 Gachibowli, Greater Hyderabad Municipal Corporation West Zone, Hyderabad, Serilingampalle mandal, Rangareddy, Telangana, 500019, India of Longitude : 78.3060359\n",
      "Info: Loaction Nizampet - Miyapur Road Mumbai Highway, Vasantha Nagar, Ward 123 Hydernagar, Greater Hyderabad Municipal Corporation West Zone, Hyderabad, Kukatpally mandal, Medchal–Malkajgiri, Telangana, 500071, India of Longitude : 78.3879134\n",
      "Info: Loaction Beeramguda Junction, Ward 112 Ramachandrapuram, Greater Hyderabad Municipal Corporation West Zone, Hyderabad, Ramachandrapuram mandal, Sangareddy, Telangana, 502032, India of Longitude : 78.3004614\n",
      "Info: Loaction Madhapur, Greater Hyderabad Municipal Corporation West Zone, Hyderabad, Serilingampalle mandal, Rangareddy, Telangana, 500081, India of Longitude : 78.3916289\n",
      "Info: Loaction Bhel R&D Employees Colony, Ward 134 Alwal, Greater Hyderabad Municipal Corporation North Zone, Hyderabad, Alwal mandal, Medchal–Malkajgiri, Telangana, 500067, India of Longitude : 78.4895401\n",
      "Info: Loaction Miyapur, Greater Hyderabad Municipal Corporation West Zone, Hyderabad, Serilingampalle mandal, Rangareddy, Telangana, 500049, India of Longitude : 78.3567628\n",
      "Info: Loaction madhapur road, Ward 107 Madhapur, Greater Hyderabad Municipal Corporation West Zone, Hyderabad, Shaikpet mandal, Hyderabad, Telangana, 500033, India of Longitude : 78.3992726\n",
      "Info: Loaction Beeramguda Junction, Ward 112 Ramachandrapuram, Greater Hyderabad Municipal Corporation West Zone, Hyderabad, Ramachandrapuram mandal, Sangareddy, Telangana, 502032, India of Longitude : 78.3004614\n",
      "Info: Loaction Patancheru, Greater Hyderabad Municipal Corporation West Zone, Hyderabad, Patancheruvu mandal, Sangareddy, Telangana, 502319, India of Longitude : 78.2674254\n",
      "Info: Loaction Kapra, Greater Hyderabad Municipal Corporation East Zone, Hyderabad, Kapra mandal, Medchal–Malkajgiri, Telangana, 500062, India of Longitude : 78.5610095\n",
      "Info: Loaction Moula Ali, Greater Hyderabad Municipal Corporation North Zone, Hyderabad, Malkajgiri mandal, Medchal–Malkajgiri, Telangana, 500040, India of Longitude : 78.5592161\n",
      "Info: Loaction Ward 129 Suraram, Greater Hyderabad Municipal Corporation North Zone, Hyderabad, Quthbullapur mandal, Medchal–Malkajgiri, Telangana, India of Longitude : 78.4186385865848\n",
      "Info: Loaction Chandanagar, Greater Hyderabad Municipal Corporation West Zone, Hyderabad, Serilingampalle mandal, Rangareddy, Telangana, 500050, India of Longitude : 78.3246428\n",
      "Info: Loaction Gajularamaram, Greater Hyderabad Municipal Corporation North Zone, Hyderabad, Quthbullapur mandal, Medchal–Malkajgiri, Telangana, 501002, India of Longitude : 78.4200077\n",
      "Info: Loaction Ashok Nagar, Ward 89 Gandhinagar, Greater Hyderabad Municipal Corporation Central Zone, Hyderabad, Himayatnagar mandal, Hyderabad, Telangana, 500029, India of Longitude : 78.4902601\n",
      "Info: Loaction Kukatpally, Greater Hyderabad Municipal Corporation West Zone, Hyderabad, Kukatpally mandal, Medchal–Malkajgiri, Telangana, 500072, India of Longitude : 78.4054408\n",
      "Info: Loaction Kukatpally, Greater Hyderabad Municipal Corporation West Zone, Hyderabad, Kukatpally mandal, Medchal–Malkajgiri, Telangana, 500072, India of Longitude : 78.4054408\n",
      "Info: Loaction kompally, Nizamabad Road, Bashirabad, Ward 132 Jeedimetla, Greater Hyderabad Municipal Corporation North Zone, Hyderabad, Quthbullapur mandal, Medchal–Malkajgiri, Telangana, 500067, India of Longitude : 78.491842\n",
      "Info: Loaction Ameenpur Lake, Road No 12, Madhavapuri Colony, Ward 110 Chandanagar, Greater Hyderabad Municipal Corporation West Zone, Hyderabad, Ameenpur mandal, Sangareddy, Telangana, 500050, India of Longitude : 78.3313932423068\n",
      "Info: Loaction Mumbai Highway, Ward 24 Saidabad, Greater Hyderabad Municipal Corporation South Zone, Hyderabad, Saroornagar mandal, Rangareddy, Telangana, 5000036, India of Longitude : 78.5149578\n",
      "Info: Loaction Hyderabad - Karimnagar Highway, GV Reddy Colony, Alwal, Alwal mandal, Medchal–Malkajgiri, Telangana, 500010, India of Longitude : 78.5334331\n",
      "Info: Loaction Hyderabad, Zahirabad mandal, Sangareddy, Telangana, 502220, India of Longitude : 77.5898867\n",
      "Info: Loaction Jawaharlal Nehru Technological University, Hyderabad, pragathi nagar rd, Samatha Nagar, Ward 123 Hydernagar, Greater Hyderabad Municipal Corporation West Zone, Hyderabad, Kukatpally mandal, Medchal–Malkajgiri, Telangana, 500071, India of Longitude : 78.3914079472966\n",
      "Info: Loaction Miyapur, Greater Hyderabad Municipal Corporation West Zone, Hyderabad, Serilingampalle mandal, Rangareddy, Telangana, 500049, India of Longitude : 78.3567628\n",
      "Info: Loaction Madinaguda, Greater Hyderabad Municipal Corporation West Zone, Hyderabad, Serilingampalle mandal, Rangareddy, Telangana, 500050, India of Longitude : 78.342306\n"
     ]
    },
    {
     "name": "stdout",
     "output_type": "stream",
     "text": [
      "Info: Loaction rd number 2, Railway Colony, Ward 133 Macha Bolarum, Greater Hyderabad Municipal Corporation North Zone, Hyderabad, Alwal mandal, Medchal–Malkajgiri, Telangana, 500010, India of Longitude : 78.4992331\n",
      "Info: Loaction Puppalaguda village, Manikonda, Gandipet mandal, Rangareddy, Telangana, 500089, India of Longitude : 78.3861896794107\n",
      "Info: Loaction bowrampet, Medak Road, Ward 125 Gajularamaram, Greater Hyderabad Municipal Corporation North Zone, Hyderabad, Dundigal_Gandimaisamma mandal, Medchal–Malkajgiri, Telangana, 5000000, India of Longitude : 78.4032321\n",
      "Info: Loaction Kanchi Gachibowli Road, Ward 105 Gachibowli, Greater Hyderabad Municipal Corporation West Zone, Hyderabad, Gandipet mandal, Rangareddy, Telangana, 500107, India of Longitude : 78.2954345\n",
      "Info: Loaction Uppal, Greater Hyderabad Municipal Corporation East Zone, Hyderabad, Uppal mandal, Medchal–Malkajgiri, Telangana, 500039, India of Longitude : 78.5612562\n",
      "Info: Loaction Hyderabad, Hashmatpet Road, Manovikas Nagar, Gunrock Enclave, Secunderabad, Tirumalgiri mandal, Hyderabad, Telangana, 500015, India of Longitude : 78.4924365\n",
      "Info: Loaction Aliabad, Greater Hyderabad Municipal Corporation South Zone, Hyderabad, Bahadurpura mandal, Hyderabad, Telangana, 500064, India of Longitude : 78.4726799\n",
      "Info: Loaction Ward 106 Serilingampally, Greater Hyderabad Municipal Corporation West Zone, Hyderabad, Serilingampalle mandal, Rangareddy, Telangana, India of Longitude : 78.3406723956511\n",
      "Info: Loaction Sainikpuri-ECIL Main Road, Bhavani Nagar, Ward 2 Dr A S Rao Nagar, Greater Hyderabad Municipal Corporation East Zone, Hyderabad, Kapra mandal, Medchal–Malkajgiri, Telangana, 500062, India of Longitude : 78.5635682\n",
      "Info: Loaction Bolarum, Greater Hyderabad Municipal Corporation North Zone, Hyderabad, Alwal mandal, Medchal–Malkajgiri, Telangana, 500010, India of Longitude : 78.5155062\n",
      "Info: Loaction Suchitra Academy, 4-102, Nizamabad Road, Bashirabad, Ward 132 Jeedimetla, Greater Hyderabad Municipal Corporation North Zone, Hyderabad, Quthbullapur mandal, Medchal–Malkajgiri, Telangana, 500067, India of Longitude : 78.4767821579867\n",
      "Info: Loaction Jubilee Hills, Greater Hyderabad Municipal Corporation Central Zone, Hyderabad, Shaikpet mandal, Hyderabad, Telangana, 500033, India of Longitude : 78.4102882\n",
      "Info: Loaction Gopanpally - Wipro Road, Ward 105 Gachibowli, Greater Hyderabad Municipal Corporation West Zone, Hyderabad, Serilingampalle mandal, Rangareddy, Telangana, 500 032, India of Longitude : 78.3349882\n",
      "Info: Loaction Bowenpally, Greater Hyderabad Municipal Corporation West Zone, Hyderabad, Balanagar mandal, Medchal–Malkajgiri, Telangana, 500015, India of Longitude : 78.4792282\n",
      "Info: Loaction RC Puram BHEL - Beeramguda Rd Mumbai Highway, Taranagar, Ward 110 Chandanagar, Greater Hyderabad Municipal Corporation West Zone, Hyderabad, Ramachandrapuram mandal, Sangareddy, Telangana, 500050, India of Longitude : 78.3140241\n",
      "Info: Loaction Hyderabad Polo and Riding Club, Bangaliguda, Moinabad mandal, Rangareddy, Telangana, India of Longitude : 78.3391395908309\n",
      "Info: Loaction Rajendra Nagar, Greater Hyderabad Municipal Corporation South Zone, Hyderabad, Rajendranagar mandal, Rangareddy, Telangana, 500086, India of Longitude : 78.4020096\n",
      "Info: Loaction Bangalore Iyengar Bakery, Sitaphalmandi Road, Indira Nagar, Ward 145 Seethaphalmandi, Greater Hyderabad Municipal Corporation North Zone, Hyderabad, Musheerabad mandal, Hyderabad, Telangana, 500061, India of Longitude : 78.5144729\n",
      "Info: Loaction NFC, Vivekananda Nagar Road, Saptagiri Colony, Ward 122 Vivekananda Nagar Colony, Greater Hyderabad Municipal Corporation West Zone, Hyderabad, Kukatpally mandal, Medchal–Malkajgiri, Telangana, 500072, India of Longitude : 78.4088347\n",
      "Info: Loaction Bengaluru - Hyderabad Highway, Makkajipalli, Anantapur District, Andhra Pradesh, 515164, India of Longitude : 77.6113493\n",
      "Info: Loaction Kishan Rao Hospital, Tilak Nagar Main Road, Tilak Nagar, Ward 81 Nallakunta, Greater Hyderabad Municipal Corporation Central Zone, Hyderabad, Amberpet mandal, Hyderabad, Telangana, 500044, India of Longitude : 78.5079373\n",
      "Info: Loaction Kismatpur Road, Poorna Grdens, Ward 60 Rajendra Nagar, Greater Hyderabad Municipal Corporation South Zone, Hyderabad, Gandipet mandal, Rangareddy, Telangana, 500086, India of Longitude : 78.3850246\n",
      "Info: Loaction Hafiz Baba Nagar, Greater Hyderabad Municipal Corporation South Zone, Hyderabad, Bandlaguda mandal, Hyderabad, Telangana, 500005, India of Longitude : 78.4911022\n",
      "Info: Loaction Mallapur, Ward 5 Mallapur, Greater Hyderabad Municipal Corporation East Zone, Hyderabad, Uppal mandal, Medchal–Malkajgiri, Telangana, 500092, India of Longitude : 78.5788551\n",
      "Info: Loaction Mallepally, Greater Hyderabad Municipal Corporation Central Zone, Hyderabad, Asifnagar mandal, Hyderabad, Telangana, 500057, India of Longitude : 78.4546129\n",
      "Info: Loaction Farooq Nagar, Ward 46 Falaknuma, Greater Hyderabad Municipal Corporation South Zone, Hyderabad, Bandlaguda mandal, Hyderabad, Telangana, 500005, India of Longitude : 78.4659938\n",
      "Info: Loaction kln yadav park, Shivaji Nagar, Ward 100 Sanath Nagar, Greater Hyderabad Municipal Corporation Central Zone, Hyderabad, Ameerpet mandal, Hyderabad, Telangana, 500042, India of Longitude : 78.4410307\n",
      "Info: Loaction Madhura Nagar, Ward 8 Habsiguda, Greater Hyderabad Municipal Corporation East Zone, Hyderabad, Uppal mandal, Medchal–Malkajgiri, Telangana, 500013, India of Longitude : 78.531403\n",
      "Info: Loaction Nagole, Greater Hyderabad Municipal Corporation East Zone, Hyderabad, Uppal mandal, Medchal–Malkajgiri, Telangana, 500060, India of Longitude : 78.5601231\n",
      "Info: Loaction Sri Nagar Colony, Ward 25 Moosarambagh, Greater Hyderabad Municipal Corporation South Zone, Hyderabad, Saroornagar mandal, Rangareddy, Telangana, 5000036, India of Longitude : 78.5117854\n",
      "Info: Loaction Ameerpet, Greater Hyderabad Municipal Corporation Central Zone, Hyderabad, Ameerpet mandal, Hyderabad, Telangana, 500038, India of Longitude : 78.4482505\n",
      "Info: Loaction Attapur, Greater Hyderabad Municipal Corporation South Zone, Hyderabad, Rajendranagar mandal, Rangareddy, Telangana, 500048, India of Longitude : 78.4307278\n",
      "Info: Loaction Banjara Hills, Greater Hyderabad Municipal Corporation Central Zone, Hyderabad, Shaikpet mandal, Hyderabad, Telangana, 500034, India of Longitude : 78.4399014\n",
      "Info: Loaction Hyderabad, Khairatabad mandal, Hyderabad, Telangana, India of Longitude : 78.4349398685041\n",
      "Info: Loaction Alwal, Greater Hyderabad Municipal Corporation North Zone, Hyderabad, Alwal mandal, Medchal–Malkajgiri, Telangana, 500010, India of Longitude : 78.5088584\n",
      "Info: Loaction Hyderabad, Khairatabad mandal, Hyderabad, Telangana, India of Longitude : 78.4349398685041\n",
      "Info: Loaction Kothaguda, Greater Hyderabad Municipal Corporation West Zone, Hyderabad, Serilingampalle mandal, Rangareddy, Telangana, 500084, India of Longitude : 78.3638803\n",
      "Info: Loaction Alwal, Greater Hyderabad Municipal Corporation North Zone, Hyderabad, Alwal mandal, Medchal–Malkajgiri, Telangana, 500010, India of Longitude : 78.5088584\n",
      "Info: Loaction Safilguda, Greater Hyderabad Municipal Corporation North Zone, Hyderabad, Malkajgiri mandal, Medchal–Malkajgiri, Telangana, 500056, India of Longitude : 78.5398739\n",
      "Info: Loaction AS Rao Nagar, Greater Hyderabad Municipal Corporation North Zone, Hyderabad, Malkajgiri mandal, Medchal–Malkajgiri, Telangana, 500062, India of Longitude : 78.5509653\n",
      "Info: Loaction Hyderabad, Khairatabad mandal, Hyderabad, Telangana, India of Longitude : 78.4349398685041\n",
      "Info: Loaction Chaitanya Dental, BHEL enclave road, Manovikas Nagar, Gunrock Enclave, Secunderabad, Tirumalgiri mandal, Hyderabad, Telangana, 500003, India of Longitude : 78.4844578\n",
      "Info: Loaction Film Nagar, Ward 95 Jubilee Hills, Greater Hyderabad Municipal Corporation Central Zone, Hyderabad, Shaikpet mandal, Hyderabad, Telangana, 500096, India of Longitude : 78.4105031\n",
      "Info: Loaction Masab Tank, Greater Hyderabad Municipal Corporation Central Zone, Hyderabad, Asifnagar mandal, Hyderabad, Telangana, 500057, India of Longitude : 78.450754\n",
      "Info: Loaction Laxmi Guda, Ward 59 Mailardevpally, Greater Hyderabad Municipal Corporation South Zone, Hyderabad, Rajendranagar mandal, Rangareddy, Telangana, 500052, India of Longitude : 78.4486808\n"
     ]
    },
    {
     "name": "stdout",
     "output_type": "stream",
     "text": [
      "Info: Loaction Shaikpet, Greater Hyderabad Municipal Corporation Central Zone, Hyderabad, Shaikpet mandal, Hyderabad, Telangana, 50008, India of Longitude : 78.4006536\n",
      "Info: Loaction Somajiguda, Greater Hyderabad Municipal Corporation Central Zone, Hyderabad, Khairatabad mandal, Hyderabad, Telangana, 500082, India of Longitude : 78.4585197\n",
      "Info: Loaction Basheer Bagh, Greater Hyderabad Municipal Corporation Central Zone, Hyderabad, Himayatnagar mandal, Hyderabad, Telangana, 500063, India of Longitude : 78.4776447\n",
      "Info: Loaction Moti Nagar, Ward 101 Erragadda, Greater Hyderabad Municipal Corporation Central Zone, Hyderabad, Khairatabad mandal, Hyderabad, Telangana, 500018, India of Longitude : 78.422242\n",
      "Info: Loaction Pragati Nagar, Ward 9 Ramanthapur, Greater Hyderabad Municipal Corporation East Zone, Hyderabad, Uppal mandal, Medchal–Malkajgiri, Telangana, 500013, India of Longitude : 78.5417093\n",
      "Info: Loaction Raja Hospital, Madina Nagar, Allwyn - Gangaram Road Mumbai Highway, Sri Ram Nagar Colony, Ward 110 Chandanagar, Greater Hyderabad Municipal Corporation West Zone, Hyderabad, Serilingampalle mandal, Rangareddy, Telangana, 500049, India of Longitude : 78.3448275\n",
      "Info: Loaction Vasan Healthcare Private Limited, Himayath Nagar, Himayath Nagar Main Road, Ward 79 Himayath Nagar, Greater Hyderabad Municipal Corporation Central Zone, Hyderabad, Himayatnagar mandal, Hyderabad, Telangana, 500029, India of Longitude : 78.4875706\n",
      "Info: Loaction Pragathi Nagar, Ward 12 Mansoorabad, Greater Hyderabad Municipal Corporation East Zone, Hyderabad, Hayathnagar mandal, Rangareddy, Telangana, 501505, India of Longitude : 78.6077549\n",
      "Info: Loaction Banjara Hills Road Number 10, Ward 93 Banjara Hills, Greater Hyderabad Municipal Corporation Central Zone, Hyderabad, Shaikpet mandal, Hyderabad, Telangana, 500034, India of Longitude : 78.449736\n",
      "Info: Loaction Ramakrishnapuram, Ward 140 Malkajgiri, Greater Hyderabad Municipal Corporation North Zone, Hyderabad, Malkajgiri mandal, Medchal–Malkajgiri, Telangana, 500056, India of Longitude : 78.5376874\n",
      "Info: Loaction Warangal, Inner Ring Road, Prashanth Nagar, Ward 7 Chilka Nagar, Greater Hyderabad Municipal Corporation East Zone, Hyderabad, Uppal mandal, Medchal–Malkajgiri, Telangana, 500039, India of Longitude : 78.5594709\n",
      "Info: Loaction Kings, Nallakunta Main Road, Ward 81 Nallakunta, Greater Hyderabad Municipal Corporation Central Zone, Hyderabad, Amberpet mandal, Hyderabad, Telangana, 500044, India of Longitude : 78.50847875\n",
      "Info: Loaction Attapur, Greater Hyderabad Municipal Corporation South Zone, Hyderabad, Rajendranagar mandal, Rangareddy, Telangana, 500048, India of Longitude : 78.4307278\n",
      "Info: Loaction KPHB, NH65, Phase 3, Ward 115 Balaji Nagar, Greater Hyderabad Municipal Corporation West Zone, Hyderabad, Kukatpally mandal, Medchal–Malkajgiri, Telangana, 500072, India of Longitude : 78.4008221\n",
      "Info: Loaction Secunderabad Railway Station, 1, Ward 150 Monda Market, Greater Hyderabad Municipal Corporation North Zone, Hyderabad, Maredpally mandal, Hyderabad, Telangana, 500025, India of Longitude : 78.499501\n",
      "Info: Loaction Hyderabad, Hashmatpet Road, Manovikas Nagar, Gunrock Enclave, Secunderabad, Tirumalgiri mandal, Hyderabad, Telangana, 500015, India of Longitude : 78.4924365\n",
      "Info: Loaction Bollaram Road, Miyapur, Alluri Sita Ramaraju Nagar, Ward 108 Miyapur, Greater Hyderabad Municipal Corporation West Zone, Hyderabad, Serilingampalle mandal, Rangareddy, Telangana, 500049, India of Longitude : 78.3645709\n",
      "Info: Loaction Ward 131 Quthbullapur, Greater Hyderabad Municipal Corporation North Zone, Hyderabad, Quthbullapur mandal, Medchal–Malkajgiri, Telangana, India of Longitude : 78.4606444809463\n",
      "Info: Loaction Jeedimetla Main Road, Venkatarama Colony, Ward 129 Suraram, Greater Hyderabad Municipal Corporation North Zone, Hyderabad, Dundigal_Gandimaisamma mandal, Medchal–Malkajgiri, Telangana, 5000000, India of Longitude : 78.4323655\n",
      "Info: Loaction Dilsukh Nagar, Greater Hyderabad Municipal Corporation East Zone, Hyderabad, Saroornagar mandal, Rangareddy, Telangana, 50003, India of Longitude : 78.5253821\n",
      "Info: Loaction Brindavan Colony, Ward 8 Habsiguda, Greater Hyderabad Municipal Corporation East Zone, Hyderabad, Uppal mandal, Medchal–Malkajgiri, Telangana, 500007, India of Longitude : 78.5453941\n",
      "Info: Loaction Whitefields, Ward 104 Kondapur, Greater Hyderabad Municipal Corporation West Zone, Hyderabad, Serilingampalle mandal, Rangareddy, Telangana, 500084, India of Longitude : 78.36589\n",
      "Info: Loaction Kowkur, Ward 133 Macha Bolarum, Greater Hyderabad Municipal Corporation North Zone, Hyderabad, Alwal mandal, Medchal–Malkajgiri, Telangana, 500087, India of Longitude : 78.5355319\n",
      "Info: Loaction Defence Colony, Ward 13 Hayath Nagar, Greater Hyderabad Municipal Corporation East Zone, Hyderabad, Hayathnagar mandal, Rangareddy, Telangana, 501505, India of Longitude : 78.6117136\n",
      "Info: Loaction West Marredpally, Marredpally, Maredpally mandal, Hyderabad, Telangana, 500026, India of Longitude : 78.5020964\n",
      "Info: Loaction Hyderabad Elevated Expressway  P.V. Narasimha Rao, Balaji Nagar, Ward 71 Gudimalkapur, Greater Hyderabad Municipal Corporation Central Zone, Hyderabad, Asifnagar mandal, Hyderabad, Telangana, 500028, India of Longitude : 78.4294634\n",
      "Info: Loaction Mithila Nagar Road, Nandi Nagar, Ward 92 Venkateshwara Colony, Greater Hyderabad Municipal Corporation Central Zone, Hyderabad, Shaikpet mandal, Hyderabad, Telangana, 34500034, India of Longitude : 78.4361593\n",
      "Info: Loaction Naveen Nagar, Ward 91 Khairatabad, Greater Hyderabad Municipal Corporation Central Zone, Hyderabad, Shaikpet mandal, Hyderabad, Telangana, 500034, India of Longitude : 78.4516998\n",
      "Info: Loaction Tarnaka, Greater Hyderabad Municipal Corporation North Zone, Hyderabad, Maredpally mandal, Hyderabad, Telangana, 500017, India of Longitude : 78.5379433\n",
      "Info: Loaction Mahadevpur Colony, Ward 125 Gajularamaram, Greater Hyderabad Municipal Corporation North Zone, Hyderabad, Quthbullapur mandal, Medchal–Malkajgiri, Telangana, 501002, India of Longitude : 78.4140552\n",
      "Info: Loaction Trimulgherry, Secunderabad, Tirumalgiri mandal, Hyderabad, Telangana, 500003, India of Longitude : 78.5069513\n",
      "Info: Loaction Rajiv Gandhi Nagar, Ward 129 Suraram, Greater Hyderabad Municipal Corporation North Zone, Hyderabad, Quthbullapur mandal, Medchal–Malkajgiri, Telangana, 500055, India of Longitude : 78.4324971\n",
      "Info: Loaction Rajiv Gandhi International Airport, Airport Gokarting, Jalapally, Mamidipally, Balapur mandal, Rangareddy, Telangana, 500036, India of Longitude : 78.4316745265238\n",
      "Info: Loaction Sunder Nagar, Ward 82 Golnaka, Greater Hyderabad Municipal Corporation Central Zone, Hyderabad, Amberpet mandal, Hyderabad, Telangana, 500027, India of Longitude : 78.5008559\n",
      "Info: Loaction Road No 10, Nandi Nagar, Ward 92 Venkateshwara Colony, Greater Hyderabad Municipal Corporation Central Zone, Hyderabad, Shaikpet mandal, Hyderabad, Telangana, 34500034, India of Longitude : 78.4265677\n",
      "Info: Loaction Hyderabad House, NH44, Madhura Nagar, Shamshabad, Shamshabad mandal, Rangareddy, Telangana, 509218, India of Longitude : 78.3863347\n",
      "Info: Loaction Kistareddypet, Service Road, Ward 113 Patancheruvu, Greater Hyderabad Municipal Corporation West Zone, Hyderabad, Ameenpur mandal, Sangareddy, Telangana, 502319, India of Longitude : 78.2954405\n",
      "Info: Loaction G.M. Syed Hyderabad Airport, Airport Road, Brohi Goth, Tando Muhammad Khan District, سنڌ, 7100, پاکستان of Longitude : 68.3683554593412\n",
      "Info: Loaction Anand Bagh, Ward 139 East Anand Bagh, Greater Hyderabad Municipal Corporation North Zone, Hyderabad, Malkajgiri mandal, Medchal–Malkajgiri, Telangana, 500047, India of Longitude : 78.5431747\n",
      "Info: Loaction padmarao nagar park, Walker Town, Ward 147 Bansilapet, Greater Hyderabad Municipal Corporation North Zone, Hyderabad, Maredpally mandal, Hyderabad, Telangana, India of Longitude : 78.5085153349731\n",
      "Info: Loaction Osman Sagar, Kanchi Gachibowli Road, Ward 105 Gachibowli, Greater Hyderabad Municipal Corporation West Zone, Hyderabad, Gandipet mandal, Rangareddy, Telangana, 500107, India of Longitude : 78.302771868377\n",
      "Info: Loaction Nallagandla Road, Rail Vihar, Ward 106 Serilingampally, Greater Hyderabad Municipal Corporation West Zone, Hyderabad, Serilingampalle mandal, Rangareddy, Telangana, 500050, India of Longitude : 78.3140311\n"
     ]
    },
    {
     "name": "stdout",
     "output_type": "stream",
     "text": [
      "Info: Loaction kompally, Nizamabad Road, Bashirabad, Ward 132 Jeedimetla, Greater Hyderabad Municipal Corporation North Zone, Hyderabad, Quthbullapur mandal, Medchal–Malkajgiri, Telangana, 500067, India of Longitude : 78.491842\n",
      "Info: Loaction Hastinapuram, Ward 15 Vanasthalipuram, Greater Hyderabad Municipal Corporation East Zone, Hyderabad, Hayathnagar mandal, Rangareddy, Telangana, 500074, India of Longitude : 78.5542145\n",
      "Info: Loaction Old Alwal, Ward 134 Alwal, Greater Hyderabad Municipal Corporation North Zone, Hyderabad, Alwal mandal, Medchal–Malkajgiri, Telangana, 500010, India of Longitude : 78.5007272\n",
      "Info: Loaction Vanasthalipuram, Greater Hyderabad Municipal Corporation East Zone, Hyderabad, Hayathnagar mandal, Rangareddy, Telangana, 500070, India of Longitude : 78.568278\n",
      "Info: Loaction HMT Nagar, Ward 6 Nacharam, Greater Hyderabad Municipal Corporation East Zone, Hyderabad, Uppal mandal, Medchal–Malkajgiri, Telangana, 500007, India of Longitude : 78.547949\n",
      "Info: Loaction Hyderabad Polo and Riding Club, Bangaliguda, Moinabad mandal, Rangareddy, Telangana, India of Longitude : 78.3391395908309\n",
      "Info: Loaction Hyderabad, Zahirabad mandal, Sangareddy, Telangana, 502220, India of Longitude : 77.5898867\n",
      "Info: Loaction NFC, Vivekananda Nagar Road, Saptagiri Colony, Ward 122 Vivekananda Nagar Colony, Greater Hyderabad Municipal Corporation West Zone, Hyderabad, Kukatpally mandal, Medchal–Malkajgiri, Telangana, 500072, India of Longitude : 78.4088347\n",
      "Info: Loaction Sitaphalmandi, Greater Hyderabad Municipal Corporation North Zone, Hyderabad, Malkajgiri mandal, Medchal–Malkajgiri, Telangana, 500061, India of Longitude : 78.5174265\n",
      "Info: Loaction Ramanthapur, Greater Hyderabad Municipal Corporation East Zone, Hyderabad, Uppal mandal, Medchal–Malkajgiri, Telangana, 500013, India of Longitude : 78.5367026\n",
      "Info: Loaction RTC Colony Road, Ward 110 Chandanagar, Greater Hyderabad Municipal Corporation West Zone, Hyderabad, Serilingampalle mandal, Rangareddy, Telangana, 500050, India of Longitude : 78.3355332\n",
      "Info: Loaction Nallakunta, Greater Hyderabad Municipal Corporation Central Zone, Hyderabad, Amberpet mandal, Hyderabad, Telangana, 500044, India of Longitude : 78.50557\n",
      "Info: Loaction Greater Hyderabad Municipal Corporation West Zone, Osman Nagar, Ramachandrapuram mandal, Sangareddy, Telangana, 500107, India of Longitude : 78.2782231\n",
      "Info: Loaction Surya Hospital, Hyderabad, Boduppal Road, Sri Lakshmi Nagar Colony, Boduppal, Chengicherla, Medipally mandal, Medchal–Malkajgiri, Telangana, 500092, India of Longitude : 78.5871698\n",
      "Info: Loaction HAL Colony, Ward 119 Old Bowenpally, Greater Hyderabad Municipal Corporation West Zone, Hyderabad, Balanagar mandal, Medchal–Malkajgiri, Telangana, 500015, India of Longitude : 78.4809763\n",
      "Info: Loaction Ramnagar Gundu Vegetable Market Place, Lalitha Nagar Road, Adikmet, Ward 85 Adikmet, Greater Hyderabad Municipal Corporation Central Zone, Hyderabad, Musheerabad mandal, Hyderabad, Telangana, 500044, India of Longitude : 78.5123242\n",
      "Info: Loaction Hema Durga Mall, NH163, Venkateswara Nagar, Ward 10 Uppal, Greater Hyderabad Municipal Corporation East Zone, Hyderabad, Uppal mandal, Medchal–Malkajgiri, Telangana, 500039, India of Longitude : 78.5719811700343\n",
      "Info: Loaction Pragathi Nagar Road, HMT Hills, Ward 123 Hydernagar, Greater Hyderabad Municipal Corporation West Zone, Hyderabad, Kukatpally mandal, Medchal–Malkajgiri, Telangana, 500072, India of Longitude : 78.3958989\n",
      "Info: Loaction Kistareddypet, Service Road, Ward 113 Patancheruvu, Greater Hyderabad Municipal Corporation West Zone, Hyderabad, Ameenpur mandal, Sangareddy, Telangana, 502319, India of Longitude : 78.2954405\n",
      "Info: Loaction Outer Ring Road, Weaker Section Colony, Ward 105 Gachibowli, Greater Hyderabad Municipal Corporation West Zone, Hyderabad, Serilingampalle mandal, Rangareddy, Telangana, HYDERABAD – 500032, India of Longitude : 78.3564991\n",
      "Info: Loaction Hyderabad Road, ميرپورخاص, حیدرآباد ضلع, سنڌ, پاکستان of Longitude : 68.9972305\n",
      "Info: Loaction Sun City, Karachi - Hyderabad Motorway, Bahria Town, ڪراچي Karachi, Karāchi District, سنڌ, پاکستان of Longitude : 67.3244931\n",
      "Info: Loaction Mehdipatnam, Greater Hyderabad Municipal Corporation Central Zone, Hyderabad, Asifnagar mandal, Hyderabad, Telangana, 500028, India of Longitude : 78.4342514\n",
      "Info: Loaction CGHS Dispensary No.II, Humayunagar, Sarada nagar, Sarada Nagar, Ward 71 Gudimalkapur, Greater Hyderabad Municipal Corporation Central Zone, Hyderabad, Asifnagar mandal, Hyderabad, Telangana, 500028, India of Longitude : 78.4392936\n",
      "Info: Loaction High Tension Line road, Ammuguda, Ward 136 Neredmet, Greater Hyderabad Municipal Corporation North Zone, Hyderabad, Alwal mandal, Medchal–Malkajgiri, Telangana, 500087, India of Longitude : 78.5405126\n",
      "Info: Loaction National Highway, حیدرآباد, حیدرآباد ضلع, سنڌ, پاکستان of Longitude : 68.3876231\n",
      "Info: Loaction Mettuguda, Ward 144 Mettuguda, Greater Hyderabad Municipal Corporation North Zone, Hyderabad, Maredpally mandal, Hyderabad, Telangana, 500017, India of Longitude : 78.5252424\n",
      "Info: Loaction Warangal, Inner Ring Road, Prashanth Nagar, Ward 7 Chilka Nagar, Greater Hyderabad Municipal Corporation East Zone, Hyderabad, Uppal mandal, Medchal–Malkajgiri, Telangana, 500039, India of Longitude : 78.5594709\n",
      "Info: Loaction Nalgonda X Roads, NH65, Ward 27 Akbarbagh, Greater Hyderabad Municipal Corporation South Zone, Hyderabad, Amberpet mandal, Hyderabad, Telangana, 500024, India of Longitude : 78.4984123\n",
      "Info: Loaction Hyderabad, Khairatabad mandal, Hyderabad, Telangana, India of Longitude : 78.4349398685041\n",
      "Info: Loaction deepthisri community park, Deepthisree Nagar, Ward 110 Chandanagar, Greater Hyderabad Municipal Corporation West Zone, Hyderabad, Serilingampalle mandal, Rangareddy, Telangana, India of Longitude : 78.3398139044367\n",
      "Info: Loaction Bandlaguda Rd, Ward 42 Barkas, Greater Hyderabad Municipal Corporation South Zone, Hyderabad, Bandlaguda mandal, Hyderabad, Telangana, 500005, India of Longitude : 78.4682212\n",
      "Info: Loaction Hyderguda, Greater Hyderabad Municipal Corporation Central Zone, Hyderabad, Himayatnagar mandal, Hyderabad, Telangana, 500029, India of Longitude : 78.4804894\n",
      "Info: Loaction Sanath Nagar Road, Ward 100 Sanath Nagar, Greater Hyderabad Municipal Corporation Central Zone, Hyderabad, Balanagar mandal, Medchal–Malkajgiri, Telangana, 500018, India of Longitude : 78.433297\n",
      "Info: Loaction Nizampet Road, Nagarjuna Homes, Ward 123 Hydernagar, Greater Hyderabad Municipal Corporation West Zone, Hyderabad, Kukatpally mandal, Medchal–Malkajgiri, Telangana, 500071, India of Longitude : 78.3885404\n",
      "Info: Loaction State Bank of Hyderabad ATM, Ngo Colony Road, Gokul Nagar, Hanamkonda, Hanamkonda mandal, Warangal Urban, Telangana, 506001, India of Longitude : 79.5418239\n",
      "Info: Loaction Kavadiguda, Greater Hyderabad Municipal Corporation Central Zone, Hyderabad, Musheerabad mandal, Hyderabad, Telangana, 500080, India of Longitude : 78.4917695\n",
      "Info: Loaction Boiguda, Greater Hyderabad Municipal Corporation North Zone, Hyderabad, Secunderabad mandal, Hyderabad, Telangana, 500025, India of Longitude : 78.4969962\n",
      "Info: Loaction Moosapet, Greater Hyderabad Municipal Corporation West Zone, Hyderabad, Kukatpally mandal, Medchal–Malkajgiri, Telangana, 500018, India of Longitude : 78.4206695\n",
      "Info: Loaction Outer Ring Road, Weaker Section Colony, Ward 105 Gachibowli, Greater Hyderabad Municipal Corporation West Zone, Hyderabad, Serilingampalle mandal, Rangareddy, Telangana, HYDERABAD – 500032, India of Longitude : 78.3564991\n",
      "Info: Loaction Erragadda, Greater Hyderabad Municipal Corporation Central Zone, Hyderabad, Khairatabad mandal, Hyderabad, Telangana, 500018, India of Longitude : 78.4356074\n",
      "Info: Loaction Upparpally Lake, Hyderabad Elevated Expressway  P.V. Narasimha Rao, Ward 61 Attapur, Greater Hyderabad Municipal Corporation South Zone, Hyderabad, Rajendranagar mandal, Rangareddy, Telangana, 500048, India of Longitude : 78.4112980462638\n",
      "Info: Loaction Tilak Nagar, Ward 81 Nallakunta, Greater Hyderabad Municipal Corporation Central Zone, Hyderabad, Amberpet mandal, Hyderabad, Telangana, 500044, India of Longitude : 78.5083876\n",
      "Info: Loaction Hafiz Baba Nagar, Greater Hyderabad Municipal Corporation South Zone, Hyderabad, Bandlaguda mandal, Hyderabad, Telangana, 500005, India of Longitude : 78.4911022\n"
     ]
    },
    {
     "name": "stdout",
     "output_type": "stream",
     "text": [
      "Info: Loaction Nizampet - JNTU Road Mumbai Highway, Vasantha Nagar, Ward 123 Hydernagar, Greater Hyderabad Municipal Corporation West Zone, Hyderabad, Kukatpally mandal, Medchal–Malkajgiri, Telangana, 500072, India of Longitude : 78.3924216\n",
      "Info: Loaction Sainikpuri, Greater Hyderabad Municipal Corporation East Zone, Hyderabad, Kapra mandal, Medchal–Malkajgiri, Telangana, 500094, India of Longitude : 78.5424889\n",
      "Info: Loaction Nagole-Bandlaguda Main Road, Arunodaya Nagar, Ward 11 Nagole, Greater Hyderabad Municipal Corporation East Zone, Hyderabad, Uppal mandal, Medchal–Malkajgiri, Telangana, 500060, India of Longitude : 78.5649186\n",
      "Info: Loaction Ward 43 Chandrayangutta, Greater Hyderabad Municipal Corporation South Zone, Hyderabad, Bandlaguda mandal, Hyderabad, Telangana, 500005, India of Longitude : 78.4787596983045\n",
      "Info: Loaction HCU main road (University of Hyderabad), Sudarshan Nagar Colony, Ward 106 Serilingampally, Greater Hyderabad Municipal Corporation West Zone, Hyderabad, Serilingampalle mandal, Rangareddy, Telangana, 50046, India of Longitude : 78.3242249\n",
      "Info: Loaction D, ark homes road, Shanti Niketan Colony, Ward 133 Macha Bolarum, Greater Hyderabad Municipal Corporation North Zone, Hyderabad, Alwal mandal, Medchal–Malkajgiri, Telangana, 500100, India of Longitude : 78.5191605788462\n",
      "Info: Loaction Akbarbagh, Ward 27 Akbarbagh, Greater Hyderabad Municipal Corporation South Zone, Hyderabad, Saidabad mandal, Hyderabad, Telangana, 5000036, India of Longitude : 78.5080525\n",
      "Info: Loaction Chikkadapally Road, Bagh Lingampally, Ward 87 Ramnagar, Greater Hyderabad Municipal Corporation Central Zone, Hyderabad, Himayatnagar mandal, Hyderabad, Telangana, 500020, India of Longitude : 78.4952967\n",
      "Info: Loaction Patancheru, Greater Hyderabad Municipal Corporation West Zone, Hyderabad, Patancheruvu mandal, Sangareddy, Telangana, 502319, India of Longitude : 78.2674254\n",
      "Info: Loaction Nissan Car Showroom, Inner Ring Road, Ananda Nagar, Ward 11 Nagole, Greater Hyderabad Municipal Corporation East Zone, Hyderabad, Uppal mandal, Medchal–Malkajgiri, Telangana, 500068, India of Longitude : 78.5581093615897\n",
      "Info: Loaction East Marredpally, Ward 150 Monda Market, Greater Hyderabad Municipal Corporation North Zone, Hyderabad, Maredpally mandal, Hyderabad, Telangana, 500026, India of Longitude : 78.5107535\n",
      "Info: Loaction Vanasthalipuram, Greater Hyderabad Municipal Corporation East Zone, Hyderabad, Hayathnagar mandal, Rangareddy, Telangana, 500070, India of Longitude : 78.568278\n",
      "Info: Loaction Hayathnagar, Greater Hyderabad Municipal Corporation East Zone, Hyderabad, Hayathnagar mandal, Rangareddy, Telangana, 501505, India of Longitude : 78.6045399\n",
      "Info: Loaction Durgabai Deshmukh Hospital and Research Centre, Vidyanagar Main Road, Ward 81 Nallakunta, Greater Hyderabad Municipal Corporation Central Zone, Hyderabad, Musheerabad mandal, Hyderabad, Telangana, 500044, India of Longitude : 78.5102829\n",
      "Info: Loaction Barkatpura, Greater Hyderabad Municipal Corporation Central Zone, Hyderabad, Himayatnagar mandal, Hyderabad, Telangana, 500027, India of Longitude : 78.4969683\n",
      "Info: Loaction Amberpet, moosarambagh road, Azad Nagar, Ward 83 Amberpet, Greater Hyderabad Municipal Corporation Central Zone, Hyderabad, Amberpet mandal, Hyderabad, Telangana, 500013, India of Longitude : 78.516481175\n",
      "Info: Loaction Green Park, Ward 132 Jeedimetla, Greater Hyderabad Municipal Corporation North Zone, Hyderabad, Quthbullapur mandal, Medchal–Malkajgiri, Telangana, 500067, India of Longitude : 78.4776674\n",
      "Info: Loaction Allwyn Colony, Ward 109 Hafeezpet, Greater Hyderabad Municipal Corporation West Zone, Hyderabad, Serilingampalle mandal, Rangareddy, Telangana, 500049, India of Longitude : 78.3499531\n",
      "Info: Loaction Macha Bolarum, Ward 133 Macha Bolarum, Greater Hyderabad Municipal Corporation North Zone, Hyderabad, Alwal mandal, Medchal–Malkajgiri, Telangana, 500010, India of Longitude : 78.5125546\n",
      "Info: Loaction PJR Enclave, Ward 110 Chandanagar, Greater Hyderabad Municipal Corporation West Zone, Hyderabad, Serilingampalle mandal, Rangareddy, Telangana, 500050, India of Longitude : 78.333407\n",
      "Info: Loaction Malakpet, Greater Hyderabad Municipal Corporation South Zone, Hyderabad, Amberpet mandal, Hyderabad, Telangana, 500024, India of Longitude : 78.4996484\n",
      "Info: Loaction santosh dabba, chaitanya puri main road, MCH Colony, Ward 22 Chaitanyapuri, Greater Hyderabad Municipal Corporation East Zone, Hyderabad, Uppal mandal, Medchal–Malkajgiri, Telangana, 500035, India of Longitude : 78.5415061534738\n",
      "Info: Loaction Hyderabad Metro Line 3 (blue), 100 Feet Road, Ayyappa Society Colony, Ward 107 Madhapur, Greater Hyderabad Municipal Corporation West Zone, Hyderabad, Serilingampalle mandal, Rangareddy, Telangana, 500081, India of Longitude : 78.3941882\n",
      "Info: Loaction Neredmet, Greater Hyderabad Municipal Corporation North Zone, Hyderabad, Malkajgiri mandal, Medchal–Malkajgiri, Telangana, 500056, India of Longitude : 78.5360054\n",
      "Info: Loaction Nacharam, Greater Hyderabad Municipal Corporation East Zone, Hyderabad, Uppal mandal, Medchal–Malkajgiri, Telangana, 500039, India of Longitude : 78.5528098\n",
      "Info: Loaction AS Rao Nagar, Greater Hyderabad Municipal Corporation North Zone, Hyderabad, Malkajgiri mandal, Medchal–Malkajgiri, Telangana, 500062, India of Longitude : 78.5509653\n",
      "Info: Loaction Sudarshan Nagar Colony, Ward 106 Serilingampally, Greater Hyderabad Municipal Corporation West Zone, Hyderabad, Serilingampalle mandal, Rangareddy, Telangana, 500046, India of Longitude : 78.332565\n",
      "Info: Loaction Vijaya Hospital - Ranga Reddy, ZP Road, Bhupesh Gupta Colony, Ward 16 Hasthinapuram, Greater Hyderabad Municipal Corporation East Zone, Hyderabad, Hayathnagar mandal, Rangareddy, Telangana, 500079, India of Longitude : 78.5336658\n",
      "Info: Loaction Malkajgiri, street number 16, Gowtham Nagar, Ward 141 Gautham Nagar, Greater Hyderabad Municipal Corporation North Zone, Hyderabad, Malkajgiri mandal, Medchal–Malkajgiri, Telangana, 500047, India of Longitude : 78.5289727\n",
      "Info: Loaction NH163, Ward 7 Chilka Nagar, Greater Hyderabad Municipal Corporation East Zone, Hyderabad, Uppal mandal, Medchal–Malkajgiri, Telangana, 500039, India of Longitude : 78.5601164\n",
      "Info: Loaction Yousufguda, Greater Hyderabad Municipal Corporation Central Zone, Hyderabad, Khairatabad mandal, Hyderabad, Telangana, 500045, India of Longitude : 78.4279866\n",
      "Info: Loaction Maktha Ambedkar Statue, dr.reddy colony, Prajay Shelters, Ward 108 Miyapur, Greater Hyderabad Municipal Corporation West Zone, Hyderabad, Serilingampalle mandal, Rangareddy, Telangana, 500049, India of Longitude : 78.3486469\n",
      "Info: Loaction State Bank of Hyderabad ATM, Old NH7, Vidya Nagar, Adilabad, Adilabad Urban Mandal, Adilabad, Telangana, 504001, India of Longitude : 78.5287838\n",
      "Info: Loaction Chitrapuri Colony, Ward 105 Gachibowli, Greater Hyderabad Municipal Corporation West Zone, Hyderabad, Serilingampalle mandal, Rangareddy, Telangana, 996544, India of Longitude : 78.3798412\n",
      "Info: Loaction HMWSSB-Badangpet, subhedar malla reddy marg, Ward 41 Kanchanbagh, Greater Hyderabad Municipal Corporation South Zone, Hyderabad, Bandlaguda mandal, Hyderabad, Telangana, 500058, India of Longitude : 78.5244273716407\n",
      "Info: Loaction Baba Nagar, Ward 44 Uppuguda, Greater Hyderabad Municipal Corporation South Zone, Hyderabad, Bandlaguda mandal, Hyderabad, Telangana, 500005, India of Longitude : 78.4894332\n",
      "Info: Loaction Hasthinapuram South, Ward 16 Hasthinapuram, Greater Hyderabad Municipal Corporation East Zone, Hyderabad, Hayathnagar mandal, Rangareddy, Telangana, 500074, India of Longitude : 78.5545976\n",
      "Info: Loaction New Nallakunta, Ward 81 Nallakunta, Greater Hyderabad Municipal Corporation Central Zone, Hyderabad, Amberpet mandal, Hyderabad, Telangana, 500044, India of Longitude : 78.5092275\n",
      "Info: Loaction Ward 84 Bagh Amberpet, Greater Hyderabad Municipal Corporation Central Zone, Hyderabad, Amberpet mandal, Hyderabad, Telangana, India of Longitude : 78.5175088441159\n",
      "Info: Loaction Chenna Reddy Nagar, Ward 83 Amberpet, Greater Hyderabad Municipal Corporation Central Zone, Hyderabad, Amberpet mandal, Hyderabad, Telangana, 500013, India of Longitude : 78.5266278\n",
      "Info: Loaction Balanagar, Greater Hyderabad Municipal Corporation West Zone, Hyderabad, Balanagar mandal, Medchal–Malkajgiri, Telangana, 500037, India of Longitude : 78.4480584\n"
     ]
    },
    {
     "name": "stdout",
     "output_type": "stream",
     "text": [
      "Info: Loaction A.P.H.B Colony Main Road, Krishna Nagar, Ward 4 Meerpet H.B Colony, Greater Hyderabad Municipal Corporation East Zone, Hyderabad, Uppal mandal, Medchal–Malkajgiri, Telangana, 500040, India of Longitude : 78.5647282\n",
      "Info: Loaction Panjagutta, Greater Hyderabad Municipal Corporation Central Zone, Hyderabad, Khairatabad mandal, Hyderabad, Telangana, 500082, India of Longitude : 78.4517519\n",
      "Info: Loaction Ward 87 Ramnagar, Greater Hyderabad Municipal Corporation Central Zone, Hyderabad, Musheerabad mandal, Hyderabad, Telangana, India of Longitude : 78.500373761781\n",
      "Info: Loaction Warasiguda, Ward 146 Boudha Nagar, Greater Hyderabad Municipal Corporation North Zone, Hyderabad, Musheerabad mandal, Hyderabad, Telangana, 500061, India of Longitude : 78.5113365\n",
      "Info: Loaction Radhika Movieplex, Sainikpuri-ECIL Main Road, Vijayapuri, Ward 2 Dr A S Rao Nagar, Greater Hyderabad Municipal Corporation East Zone, Hyderabad, Kapra mandal, Medchal–Malkajgiri, Telangana, 500062, India of Longitude : 78.5634096\n",
      "Info: Loaction Mallepally, Greater Hyderabad Municipal Corporation Central Zone, Hyderabad, Asifnagar mandal, Hyderabad, Telangana, 500057, India of Longitude : 78.4546129\n",
      "Info: Loaction Falaknuma, Greater Hyderabad Municipal Corporation South Zone, Hyderabad, Bandlaguda mandal, Hyderabad, Telangana, 500005, India of Longitude : 78.4677481\n",
      "Info: Loaction Kavuri Hills, Ward 104 Kondapur, Greater Hyderabad Municipal Corporation West Zone, Hyderabad, Serilingampalle mandal, Rangareddy, Telangana, 996544, India of Longitude : 78.3944107\n",
      "Info: Loaction Kalyanpuri Community Center, Road No 1, Raghavendra Nagar Colony, Ward 7 Chilka Nagar, Greater Hyderabad Municipal Corporation East Zone, Hyderabad, Uppal mandal, Medchal–Malkajgiri, Telangana, 500039, India of Longitude : 78.5564624\n",
      "Info: Loaction NH765, Keshavgiri, Ward 43 Chandrayangutta, Greater Hyderabad Municipal Corporation South Zone, Hyderabad, Bandlaguda mandal, Hyderabad, Telangana, 500005, India of Longitude : 78.4767917\n",
      "Info: Loaction Nacharam, Greater Hyderabad Municipal Corporation East Zone, Hyderabad, Uppal mandal, Medchal–Malkajgiri, Telangana, 500039, India of Longitude : 78.5528098\n",
      "Info: Loaction Medak Road, Ward 125 Gajularamaram, Greater Hyderabad Municipal Corporation North Zone, Hyderabad, Dundigal_Gandimaisamma mandal, Medchal–Malkajgiri, Telangana, 5000000, India of Longitude : 78.4243288\n",
      "Info: Loaction Saidabad Main Road, Ward 24 Saidabad, Greater Hyderabad Municipal Corporation South Zone, Hyderabad, Saidabad mandal, Hyderabad, Telangana, 50003, India of Longitude : 78.5118433\n",
      "Info: Loaction RK Puram, Ward 20 RK Puram, Greater Hyderabad Municipal Corporation East Zone, Hyderabad, Saroornagar mandal, Rangareddy, Telangana, 500035, India of Longitude : 78.5487763\n",
      "Info: Loaction Karkhana, Trimulgherry, Secunderabad, Tirumalgiri mandal, Hyderabad, Telangana, 500003, India of Longitude : 78.5115017\n",
      "Info: Loaction Azamabad, Ward 87 Ramnagar, Greater Hyderabad Municipal Corporation Central Zone, Hyderabad, Musheerabad mandal, Hyderabad, Telangana, 500020, India of Longitude : 78.5032906\n",
      "Info: Loaction Ward 72 Asif Nagar, Greater Hyderabad Municipal Corporation Central Zone, Hyderabad, Asifnagar mandal, Hyderabad, Telangana, India of Longitude : 78.4461438818854\n",
      "Info: Loaction Kushaiguda, Greater Hyderabad Municipal Corporation East Zone, Hyderabad, Kapra mandal, Medchal–Malkajgiri, Telangana, 500062, India of Longitude : 78.5726444\n",
      "Info: Loaction Nampally, Greater Hyderabad Municipal Corporation Central Zone, Hyderabad, Nampally mandal, Hyderabad, Telangana, 500002, India of Longitude : 78.4660052\n",
      "Info: Loaction Sanjeeva Reddy Nagar Colony Main Road, Srinivas Nagar, Ward 98 Ameerpet, Greater Hyderabad Municipal Corporation Central Zone, Hyderabad, Ameerpet mandal, Hyderabad, Telangana, 500038, India of Longitude : 78.446653\n",
      "Info: Loaction KPHB 6th Phase Road, Phase 5, Ward 114 KPHB Colony, Greater Hyderabad Municipal Corporation West Zone, Hyderabad, Kukatpally mandal, Medchal–Malkajgiri, Telangana, 500071, India of Longitude : 78.3947068\n",
      "Info: Loaction Kurmaguda, Ward 37 Kurmaguda, Greater Hyderabad Municipal Corporation South Zone, Hyderabad, Saidabad mandal, Hyderabad, Telangana, 500065, India of Longitude : 78.5024039\n",
      "Info: Loaction Murad Nagar, Ward 35 Gowlipura, Greater Hyderabad Municipal Corporation South Zone, Hyderabad, Charminar mandal, Hyderabad, Telangana, 500064, India of Longitude : 78.475765\n",
      "Info: Loaction Mansoorabad, Greater Hyderabad Municipal Corporation East Zone, Hyderabad, Saroornagar mandal, Rangareddy, Telangana, 500068, India of Longitude : 78.5652906\n",
      "Info: Loaction Kundanbagh, Ward 98 Ameerpet, Greater Hyderabad Municipal Corporation Central Zone, Hyderabad, Ameerpet mandal, Hyderabad, Telangana, 500016, India of Longitude : 78.4596162\n",
      "Info: Loaction Ward 4 Meerpet H.B Colony, Greater Hyderabad Municipal Corporation East Zone, Hyderabad, Uppal mandal, Medchal–Malkajgiri, Telangana, India of Longitude : 78.5715073708675\n",
      "Info: Loaction Anand Nagar Colony, Ward 27 Akbarbagh, Greater Hyderabad Municipal Corporation South Zone, Hyderabad, Amberpet mandal, Hyderabad, Telangana, 5000036, India of Longitude : 78.5043921\n",
      "Info: Loaction Kuntloor Road, Dattatreya Nagar, Ward 13 Hayath Nagar, Greater Hyderabad Municipal Corporation East Zone, Hyderabad, Hayathnagar mandal, Rangareddy, Telangana, 501505, India of Longitude : 78.6181322\n",
      "Info: Loaction Telephone Colony, Ward 20 RK Puram, Greater Hyderabad Municipal Corporation East Zone, Hyderabad, Saroornagar mandal, Rangareddy, Telangana, 500035, India of Longitude : 78.5486249\n",
      "Info: Loaction Hyderabad, Zahirabad mandal, Sangareddy, Telangana, 502220, India of Longitude : 77.5898867\n",
      "Info: Loaction Karmanghat, Greater Hyderabad Municipal Corporation East Zone, Hyderabad, Balapur mandal, Rangareddy, Telangana, 500079, India of Longitude : 78.5329747\n",
      "Info: Loaction Hakimpet Air Force Station, Hyderabad - Karimnagar Highway, GV Reddy Colony, Alwal, Alwal mandal, Medchal–Malkajgiri, Telangana, 500010, India of Longitude : 78.5241330684818\n",
      "Info: Loaction Surya Hospital, Hyderabad, Boduppal Road, Sri Lakshmi Nagar Colony, Boduppal, Chengicherla, Medipally mandal, Medchal–Malkajgiri, Telangana, 500092, India of Longitude : 78.5871698\n",
      "Info: Loaction Sri Ram Nagar Colony, Ward 93 Banjara Hills, Greater Hyderabad Municipal Corporation Central Zone, Hyderabad, Shaikpet mandal, Hyderabad, Telangana, 500034, India of Longitude : 78.4466379\n",
      "Info: Loaction State Bank of Hyderabad ATM, Ngo Colony Road, Gokul Nagar, Hanamkonda, Hanamkonda mandal, Warangal Urban, Telangana, 506001, India of Longitude : 79.5418239\n",
      "Info: Loaction hyderabad restaurant, Yousufguda Basti, Ward 99 Vengal Rao Nagar, Greater Hyderabad Municipal Corporation Central Zone, Hyderabad, Khairatabad mandal, Hyderabad, Telangana, 500038, India of Longitude : 78.4325861\n",
      "Info: Loaction Gandhi Nagar, Greater Hyderabad Municipal Corporation Central Zone, Hyderabad, Himayatnagar mandal, Hyderabad, Telangana, 500020, India of Longitude : 78.4899194\n",
      "Info: Loaction Shanti Nagar, Ward 73 Vijay Nagar Colony, Greater Hyderabad Municipal Corporation Central Zone, Hyderabad, Asifnagar mandal, Hyderabad, Telangana, 500057, India of Longitude : 78.4546396\n",
      "Info: Loaction EC Nagar Colony, Ward 3 Cherlapally, Greater Hyderabad Municipal Corporation East Zone, Hyderabad, Kapra mandal, Medchal–Malkajgiri, Telangana, 500083, India of Longitude : 78.6006548\n",
      "Info: Loaction Begumpet, Country Club, Kundanbagh, Ward 98 Ameerpet, Greater Hyderabad Municipal Corporation Central Zone, Hyderabad, Ameerpet mandal, Hyderabad, Telangana, 500016, India of Longitude : 78.4580969\n",
      "Info: Loaction Hyderabad Metro Line 1 (red), Nizampet - Miyapur Road Mumbai Highway, Ward 123 Hydernagar, Greater Hyderabad Municipal Corporation West Zone, Hyderabad, Kukatpally mandal, Medchal–Malkajgiri, Telangana, 500049, India of Longitude : 78.3684477\n",
      "Info: Loaction Saidabad, Greater Hyderabad Municipal Corporation South Zone, Hyderabad, Saidabad mandal, Hyderabad, Telangana, 500059, India of Longitude : 78.5147979\n",
      "Info: Loaction Hafeezpet, Ward 107 Madhapur, Greater Hyderabad Municipal Corporation West Zone, Hyderabad, Serilingampalle mandal, Rangareddy, Telangana, 500049, India of Longitude : 78.3613099\n"
     ]
    },
    {
     "name": "stdout",
     "output_type": "stream",
     "text": [
      "Info: Loaction Essar Petrol, NH163, Salarjung Colony, Ward 69 Nanal Nagar, Greater Hyderabad Municipal Corporation Central Zone, Hyderabad, Shaikpet mandal, Hyderabad, Telangana, 500008, India of Longitude : 78.4229205\n",
      "Info: Loaction Whisper Valley Colony, Ward 104 Kondapur, Greater Hyderabad Municipal Corporation West Zone, Hyderabad, Serilingampalle mandal, Rangareddy, Telangana, 500110, India of Longitude : 78.3972025\n",
      "Info: Loaction Metro Cash and Carry, Survey No. 588/1 & 591/1, Inner Ring Road, Saraswati Colony, Ward 10 Uppal, Greater Hyderabad Municipal Corporation East Zone, Hyderabad, Uppal mandal, Medchal–Malkajgiri, Telangana, 500039, India of Longitude : 78.5600446215207\n",
      "Info: Loaction Habsiguda, Greater Hyderabad Municipal Corporation East Zone, Hyderabad, Uppal mandal, Medchal–Malkajgiri, Telangana, 500007, India of Longitude : 78.5426918\n",
      "Info: Loaction Venkatapuram, Greater Hyderabad Municipal Corporation North Zone, Hyderabad, Alwal mandal, Medchal–Malkajgiri, Telangana, 500010, India of Longitude : 78.5043108\n",
      "Info: Loaction Kothapet, Greater Hyderabad Municipal Corporation East Zone, Hyderabad, Uppal mandal, Medchal–Malkajgiri, Telangana, 500035, India of Longitude : 78.5454615\n",
      "Info: Loaction Botanical Gardens, Masjid Banda Road, Ward 106 Serilingampally, Greater Hyderabad Municipal Corporation West Zone, Hyderabad, Serilingampalle mandal, Rangareddy, Telangana, 500084, India of Longitude : 78.3575314643004\n",
      "Info: Loaction Franklin Templeton, Hyderabad, Road No 2, Ward 105 Gachibowli, Greater Hyderabad Municipal Corporation West Zone, Hyderabad, Serilingampalle mandal, Rangareddy, Telangana, 500 032, India of Longitude : 78.3357861507084\n",
      "Info: Loaction Hussaini Alam, Greater Hyderabad Municipal Corporation South Zone, Hyderabad, Bahadurpura mandal, Hyderabad, Telangana, 500064, India of Longitude : 78.4667506\n",
      "Info: Loaction Tolichowki, Greater Hyderabad Municipal Corporation Central Zone, Hyderabad, Shaikpet mandal, Hyderabad, Telangana, 500008, India of Longitude : 78.4118051\n",
      "Info: Loaction Greater Hyderabad Municipal Corporation East Zone, Hyderabad, Uppal mandal, Medchal–Malkajgiri, Telangana, India of Longitude : 78.5533764213247\n",
      "Info: Loaction Adikmet, Ward 85 Adikmet, Greater Hyderabad Municipal Corporation Central Zone, Hyderabad, Musheerabad mandal, Hyderabad, Telangana, 500044, India of Longitude : 78.5130943\n",
      "Info: Loaction Ward 19 Saroornagar, Greater Hyderabad Municipal Corporation East Zone, Hyderabad, Saroornagar mandal, Rangareddy, Telangana, 500035, India of Longitude : 78.5387561958896\n",
      "Info: Loaction Central Excise Colony, Ward 84 Bagh Amberpet, Greater Hyderabad Municipal Corporation Central Zone, Hyderabad, Amberpet mandal, Hyderabad, Telangana, 500044, India of Longitude : 78.514912\n",
      "Info: Loaction Santoshnagar, Inner Ring Road, new balaji nagar, Ward 17 Champapet, Greater Hyderabad Municipal Corporation East Zone, Hyderabad, Saroornagar mandal, Hyderabad, Telangana, 500079, India of Longitude : 78.508186\n",
      "Info: Loaction Rtc Colony, Ward 110 Chandanagar, Greater Hyderabad Municipal Corporation West Zone, Hyderabad, Ameenpur mandal, Sangareddy, Telangana, 500050, India of Longitude : 78.3369122\n",
      "Info: Loaction Moghalpura, Greater Hyderabad Municipal Corporation South Zone, Hyderabad, Charminar mandal, Hyderabad, Telangana, 500012, India of Longitude : 78.4770839\n",
      "Info: Loaction Nagole Jaipur Colony Main Road, Weaker Section Colony, Ward 11 Nagole, Greater Hyderabad Municipal Corporation East Zone, Hyderabad, Uppal mandal, Medchal–Malkajgiri, Telangana, 500060, India of Longitude : 78.5695846\n",
      "Info: Loaction rci road, Ward 16 Hasthinapuram, Greater Hyderabad Municipal Corporation East Zone, Hyderabad, Balapur mandal, Hyderabad, Telangana, 500079, India of Longitude : 78.505532\n",
      "Info: Loaction Hussain Sagar, Necklace Road, Ward 91 Khairatabad, Greater Hyderabad Municipal Corporation Central Zone, Hyderabad, Khairatabad mandal, Hyderabad, Telangana, 500082, India of Longitude : 78.4754344110337\n",
      "Info: Loaction Vijay Nagar Colony, Greater Hyderabad Municipal Corporation Central Zone, Hyderabad, Asifnagar mandal, Hyderabad, Telangana, 500057, India of Longitude : 78.452685\n",
      "Info: Loaction Abids, Greater Hyderabad Municipal Corporation Central Zone, Hyderabad, Nampally mandal, Hyderabad, Telangana, 500 095, India of Longitude : 78.477182\n",
      "Info: Loaction Gulmohar Park Colony, Ward 105 Gachibowli, Greater Hyderabad Municipal Corporation West Zone, Hyderabad, Serilingampalle mandal, Rangareddy, Telangana, 500019, India of Longitude : 78.3189014\n",
      "Info: Loaction Rakshapuram, Ward 40 Riyasat Nagar, Greater Hyderabad Municipal Corporation South Zone, Hyderabad, Bandlaguda mandal, Hyderabad, Telangana, 500005, India of Longitude : 78.4944313\n",
      "Info: Loaction AIRPORT ROAD, Eidgah Colony, حیدرآباد, Tando Muhammad Khan District, سنڌ, 7100, پاکستان of Longitude : 68.3581924\n",
      "Info: Loaction Khilwat, Greater Hyderabad Municipal Corporation South Zone, Hyderabad, Bahadurpura mandal, Hyderabad, Telangana, 500064, India of Longitude : 78.4683744\n",
      "Info: Loaction Hyderabad Polo and Riding Club, Bangaliguda, Moinabad mandal, Rangareddy, Telangana, India of Longitude : 78.3391395908309\n",
      "Info: Loaction Bhavani Nagar, Ward 5 Mallapur, Greater Hyderabad Municipal Corporation East Zone, Hyderabad, Uppal mandal, Medchal–Malkajgiri, Telangana, 500040, India of Longitude : 78.5652082\n",
      "Info: Loaction Domalguda, Ward 90 Kavadiguda, Greater Hyderabad Municipal Corporation Central Zone, Hyderabad, Himayatnagar mandal, Hyderabad, Telangana, 500029, India of Longitude : 78.4850003\n",
      "Info: Loaction Miyapur, Greater Hyderabad Municipal Corporation West Zone, Hyderabad, Serilingampalle mandal, Rangareddy, Telangana, 500049, India of Longitude : 78.3567628\n",
      "Info: Loaction Champapet, Greater Hyderabad Municipal Corporation East Zone, Hyderabad, Saroornagar mandal, Rangareddy, Telangana, 500659, India of Longitude : 78.5169717\n",
      "Info: Loaction Borabanda, Road, Satadar Nagar, Ward 116 Allapur, Greater Hyderabad Municipal Corporation West Zone, Hyderabad, Kukatpally mandal, Medchal–Malkajgiri, Telangana, 500018, India of Longitude : 78.4078486\n",
      "Info: Loaction Rasoolpura, Secunderabad, Tirumalgiri mandal, Hyderabad, Telangana, 500003, India of Longitude : 78.4786038\n",
      "Info: Loaction Vinayak Nagar, Ward 59 Mailardevpally, Greater Hyderabad Municipal Corporation South Zone, Hyderabad, Rajendranagar mandal, Rangareddy, Telangana, 500052, India of Longitude : 78.4508236\n",
      "Info: Loaction cbcid colony main road, APHB Colony, Ward 114 KPHB Colony, Greater Hyderabad Municipal Corporation West Zone, Hyderabad, Kukatpally mandal, Medchal–Malkajgiri, Telangana, 500071, India of Longitude : 78.3805502\n",
      "Info: Loaction Chanchalguda, Ward 29 Chawni, Greater Hyderabad Municipal Corporation South Zone, Hyderabad, Charminar mandal, Hyderabad, Telangana, 500024, India of Longitude : 78.4965799\n",
      "Info: Loaction Shalibanda, Greater Hyderabad Municipal Corporation South Zone, Hyderabad, Bahadurpura mandal, Hyderabad, Telangana, 500064, India of Longitude : 78.4717538\n",
      "Info: Loaction Ismail Nagar, Mustafa Hills, Bandlaguda mandal, Hyderabad, Telangana, 500085, India of Longitude : 78.4677107\n",
      "Info: Loaction Gurramguda Reserved Forest, SH19, sripuram, Ward 14 BN Reddy Nagar, Greater Hyderabad Municipal Corporation East Zone, Hyderabad, Hayathnagar mandal, Rangareddy, Telangana, 500070, India of Longitude : 78.5761937694639\n",
      "Info: Loaction Qutub Shahi Tombs, Qutub shahi tomb rd, Gulshan Colony, Ward 94 Shaikpet, Greater Hyderabad Municipal Corporation Central Zone, Hyderabad, Shaikpet mandal, Hyderabad, Telangana, 50008, India of Longitude : 78.3968789523994\n",
      "Info: Loaction Baghdad Colony, Ward 67 Golconda, Greater Hyderabad Municipal Corporation Central Zone, Hyderabad, Golkonda mandal, Hyderabad, Telangana, 500008, India of Longitude : 78.4159472\n",
      "Info: Loaction Street number 8, South End Park, Ward 11 Nagole, Greater Hyderabad Municipal Corporation East Zone, Hyderabad, Saroornagar mandal, Rangareddy, Telangana, 500068, India of Longitude : 78.5701821\n",
      "Info: Loaction Bahadurpura, Greater Hyderabad Municipal Corporation South Zone, Hyderabad, Bahadurpura mandal, Hyderabad, Telangana, 500064, India of Longitude : 78.4545419\n"
     ]
    },
    {
     "name": "stdout",
     "output_type": "stream",
     "text": [
      "Info: Loaction Ushodaya Colony Park, Ward 72 Asif Nagar, Greater Hyderabad Municipal Corporation Central Zone, Hyderabad, Asifnagar mandal, Hyderabad, Telangana, 500028, India of Longitude : 78.4388101138136\n",
      "Info: Loaction Sri Aditya Kirana & General Store, Road No 8, Prashasan Nagar, Ward 95 Jubilee Hills, Greater Hyderabad Municipal Corporation Central Zone, Hyderabad, Serilingampalle mandal, Rangareddy, Telangana, 500110, India of Longitude : 78.4025692\n",
      "Info: Loaction Lakdikapul Road, Ward 91 Khairatabad, Greater Hyderabad Municipal Corporation Central Zone, Hyderabad, Khairatabad mandal, Hyderabad, Telangana, 500004, India of Longitude : 78.4605708\n",
      "Info: Loaction Ward 128 Chintal, Greater Hyderabad Municipal Corporation North Zone, Hyderabad, Quthbullapur mandal, Medchal–Malkajgiri, Telangana, India of Longitude : 78.4406083140158\n",
      "Info: Loaction Bandlaguda, Greater Hyderabad Municipal Corporation East Zone, Hyderabad, Uppal mandal, Medchal–Malkajgiri, Telangana, 500068, India of Longitude : 78.5727265\n",
      "Info: Loaction Vasanth Nagar, Ward 114 KPHB Colony, Greater Hyderabad Municipal Corporation West Zone, Hyderabad, Kukatpally mandal, Medchal–Malkajgiri, Telangana, 500071, India of Longitude : 78.3862078\n",
      "Info: Loaction Hakimpet Air Force Station, Hyderabad - Karimnagar Highway, GV Reddy Colony, Alwal, Alwal mandal, Medchal–Malkajgiri, Telangana, 500010, India of Longitude : 78.5241330684818\n",
      "Info: Loaction More, 939, Vivekananda Nagar Road, Saptagiri Colony, Ward 122 Vivekananda Nagar Colony, Greater Hyderabad Municipal Corporation West Zone, Hyderabad, Kukatpally mandal, Medchal–Malkajgiri, Telangana, 500072, India of Longitude : 78.4089417\n",
      "Info: Loaction Jahangirabad, Mustafa Hills, Bandlaguda mandal, Hyderabad, Telangana, 500005, India of Longitude : 78.4630866\n",
      "Info: Loaction Lal Bahadur Nagar Colony, Ward 119 Old Bowenpally, Greater Hyderabad Municipal Corporation West Zone, Hyderabad, Balanagar mandal, Medchal–Malkajgiri, Telangana, 500015, India of Longitude : 78.4858642\n",
      "Info: Loaction Sainikpuri-ECIL Main Road, Bhavani Nagar, Ward 2 Dr A S Rao Nagar, Greater Hyderabad Municipal Corporation East Zone, Hyderabad, Kapra mandal, Medchal–Malkajgiri, Telangana, 500062, India of Longitude : 78.5635682\n",
      "Info: Loaction PJR Layout Main Road, Madhavapuri Colony, Ward 110 Chandanagar, Greater Hyderabad Municipal Corporation West Zone, Hyderabad, Serilingampalle mandal, Rangareddy, Telangana, 500050, India of Longitude : 78.3351495\n",
      "Info: Loaction Nawab Saheb Kunta, Greater Hyderabad Municipal Corporation South Zone, Hyderabad, Bahadurpura mandal, Hyderabad, Telangana, 500064, India of Longitude : 78.4578365\n",
      "Info: Loaction Shanti Nagar Rd, AC Guards, Ward 73 Vijay Nagar Colony, Greater Hyderabad Municipal Corporation Central Zone, Hyderabad, Asifnagar mandal, Hyderabad, Telangana, 500057, India of Longitude : 78.4575025\n",
      "Info: Loaction IDPL Tank, Kukkatpally Main Road - Mumbai Highway, Sumitra Nagar, Ward 122 Vivekananda Nagar Colony, Greater Hyderabad Municipal Corporation West Zone, Hyderabad, Kukatpally mandal, Medchal–Malkajgiri, Telangana, 500072, India of Longitude : 78.4126329281245\n",
      "Info: Loaction Ward 80 Kachiguda, Greater Hyderabad Municipal Corporation Central Zone, Hyderabad, Himayatnagar mandal, Hyderabad, Telangana, 500027, India of Longitude : 78.4946205078499\n",
      "Info: Loaction Adarsh Nagar, Ward 59 Mailardevpally, Greater Hyderabad Municipal Corporation South Zone, Hyderabad, Rajendranagar mandal, Rangareddy, Telangana, 500052, India of Longitude : 78.4294273\n",
      "Info: Loaction Bhagyanagar Colony, Ward 124 Alwyn Colony, Greater Hyderabad Municipal Corporation West Zone, Hyderabad, Kukatpally mandal, Medchal–Malkajgiri, Telangana, 500072, India of Longitude : 78.403275\n",
      "Info: Loaction Yakutpura, Greater Hyderabad Municipal Corporation South Zone, Hyderabad, Charminar mandal, Hyderabad, Telangana, 500065, India of Longitude : 78.4858046\n",
      "Info: Loaction Anand Bagh, Ward 139 East Anand Bagh, Greater Hyderabad Municipal Corporation North Zone, Hyderabad, Malkajgiri mandal, Medchal–Malkajgiri, Telangana, 500047, India of Longitude : 78.5431747\n",
      "Info: Loaction Gayatri Nagar, Ward 116 Allapur, Greater Hyderabad Municipal Corporation West Zone, Hyderabad, Kukatpally mandal, Medchal–Malkajgiri, Telangana, 500033, India of Longitude : 78.4035867\n",
      "Info: Loaction Mayuri Nagar, Ward 108 Miyapur, Greater Hyderabad Municipal Corporation West Zone, Hyderabad, Serilingampalle mandal, Rangareddy, Telangana, 500049, India of Longitude : 78.3676991\n",
      "Info: Loaction Chilkanagar Main Road, Ward 6 Nacharam, Greater Hyderabad Municipal Corporation East Zone, Hyderabad, Uppal mandal, Medchal–Malkajgiri, Telangana, 500039, India of Longitude : 78.5649633\n",
      "Info: Loaction Nirmal Nagar, Ward 1 Kapra, Greater Hyderabad Municipal Corporation East Zone, Hyderabad, Malkajgiri mandal, Medchal–Malkajgiri, Telangana, 500094, India of Longitude : 78.539036\n",
      "Info: Loaction Budvel, Greater Hyderabad Municipal Corporation South Zone, Hyderabad, Rajendranagar mandal, Rangareddy, Telangana, 500093, India of Longitude : 78.406191\n",
      "Info: Loaction Chanakyapuri, Ward 11 Nagole, Greater Hyderabad Municipal Corporation East Zone, Hyderabad, Saroornagar mandal, Rangareddy, Telangana, 500068, India of Longitude : 78.5601419\n",
      "Info: Loaction Gayatri Nagar, Ward 116 Allapur, Greater Hyderabad Municipal Corporation West Zone, Hyderabad, Kukatpally mandal, Medchal–Malkajgiri, Telangana, 500033, India of Longitude : 78.4035867\n",
      "Info: Loaction Marredpally, Maredpally mandal, Hyderabad, Telangana, 500026, India of Longitude : 78.5048972\n",
      "Info: Loaction Venkatapuram, Greater Hyderabad Municipal Corporation North Zone, Hyderabad, Alwal mandal, Medchal–Malkajgiri, Telangana, 500010, India of Longitude : 78.5043108\n",
      "Info: Loaction Jahanuma, Greater Hyderabad Municipal Corporation South Zone, Hyderabad, Bahadurpura mandal, Hyderabad, Telangana, 500064, India of Longitude : 78.4614644\n",
      "Info: Loaction Buddha Statue, NH44, Gagan Mahal, Ward 90 Kavadiguda, Greater Hyderabad Municipal Corporation Central Zone, Hyderabad, Himayatnagar mandal, Hyderabad, Telangana, 500063, India of Longitude : 78.4750856032819\n",
      "Info: Loaction Old Malakpet, Ward 26 Old Malakpet, Greater Hyderabad Municipal Corporation South Zone, Hyderabad, Amberpet mandal, Hyderabad, Telangana, 500024, India of Longitude : 78.4988983\n",
      "Info: Loaction Khayyam Nagar, Ward 61 Attapur, Greater Hyderabad Municipal Corporation South Zone, Hyderabad, Rajendranagar mandal, Rangareddy, Telangana, 500048, India of Longitude : 78.4264376\n",
      "Info: Loaction Lal Darwaza, Ward 35 Gowlipura, Greater Hyderabad Municipal Corporation South Zone, Hyderabad, Bandlaguda mandal, Hyderabad, Telangana, 500005, India of Longitude : 78.4774507\n",
      "Info: Loaction Zamistanpur, Ward 88 Bholakpur, Greater Hyderabad Municipal Corporation Central Zone, Hyderabad, Musheerabad mandal, Hyderabad, Telangana, 500020, India of Longitude : 78.5014979\n",
      "Info: Loaction Diamond Point, Sikh Village Road, AWHO Colony, Gunrock Enclave, Secunderabad, Tirumalgiri mandal, Hyderabad, Telangana, 500003, India of Longitude : 78.4911418\n",
      "Info: Loaction Vasanth Nagar Colony, Greater Hyderabad Municipal Corporation Central Zone, Hyderabad, Musheerabad mandal, Hyderabad, Telangana, 500020, India of Longitude : 78.4957358\n",
      "Info: Loaction Happy Homes Colony, Ward 60 Rajendra Nagar, Greater Hyderabad Municipal Corporation South Zone, Hyderabad, Rajendranagar mandal, Rangareddy, Telangana, 500048, India of Longitude : 78.4141612\n",
      "Info: Loaction Balaji Colony, Ward 14 BN Reddy Nagar, Greater Hyderabad Municipal Corporation East Zone, Hyderabad, Hayathnagar mandal, Rangareddy, Telangana, 500070, India of Longitude : 78.5600237\n",
      "Info: Loaction Reddy Nagar, Ward 16 Hasthinapuram, Greater Hyderabad Municipal Corporation East Zone, Hyderabad, Hayathnagar mandal, Rangareddy, Telangana, 500074, India of Longitude : 78.5461009\n",
      "Info: Loaction International Institute of Information Technology, Hyderabad, Campus Road, Ward 105 Gachibowli, Greater Hyderabad Municipal Corporation West Zone, Hyderabad, Serilingampalle mandal, Rangareddy, Telangana, 500032, India of Longitude : 78.3485469754447\n",
      "Info: Loaction Syed Ali Guda, Ward 73 Vijay Nagar Colony, Greater Hyderabad Municipal Corporation Central Zone, Hyderabad, Asifnagar mandal, Hyderabad, Telangana, 500028, India of Longitude : 78.4462402\n"
     ]
    },
    {
     "name": "stdout",
     "output_type": "stream",
     "text": [
      "Info: Loaction Anand Nagar, Ward 11 Nagole, Greater Hyderabad Municipal Corporation East Zone, Hyderabad, Uppal mandal, Medchal–Malkajgiri, Telangana, 500068, India of Longitude : 78.5746239\n",
      "Info: Loaction Golconda Fort, Commoner Stairs, Ward 66 Langar Houz, Greater Hyderabad Municipal Corporation Central Zone, Hyderabad, Golkonda mandal, Hyderabad, Telangana, 500008, India of Longitude : 78.4011408662283\n",
      "Info: Loaction Virat Nagar, Ward 16 Hasthinapuram, Greater Hyderabad Municipal Corporation East Zone, Hyderabad, Bandlaguda mandal, Hyderabad, Telangana, 500079, India of Longitude : 78.5198116\n",
      "Info: Loaction Hyderabad Chefs, 2nd Road, Export Promotion Industrial Park, Whitefied, Garudachara Palya, Mahadevapura Zone, Bengaluru, Bangalore Urban, Karnataka, 560066, India of Longitude : 77.7249938\n",
      "Info: Loaction Bairamalguda, Greater Hyderabad Municipal Corporation East Zone, Hyderabad, Saroornagar mandal, Rangareddy, Telangana, 500074, India of Longitude : 78.5423473\n",
      "Info: Loaction DD Colony, Ward 84 Bagh Amberpet, Greater Hyderabad Municipal Corporation Central Zone, Hyderabad, Musheerabad mandal, Hyderabad, Telangana, 500044, India of Longitude : 78.5155338\n",
      "Info: Loaction Gunrock Enclave, Secunderabad, Tirumalgiri mandal, Hyderabad, Telangana, 500003, India of Longitude : 78.4964302\n",
      "Info: Loaction Greater Hyderabad Municipal Corporation West Zone, Osman Nagar, Ramachandrapuram mandal, Sangareddy, Telangana, 500107, India of Longitude : 78.2782231\n",
      "Info: Loaction usman garth link road, Anand Nagar Colony, Ward 27 Akbarbagh, Greater Hyderabad Municipal Corporation South Zone, Hyderabad, Saidabad mandal, Hyderabad, Telangana, 5000036, India of Longitude : 78.5033919\n",
      "Info: Loaction suraram market road, Dayanand Nagar, Ward 130 Subash Nagar, Greater Hyderabad Municipal Corporation North Zone, Hyderabad, Quthbullapur mandal, Medchal–Malkajgiri, Telangana, 500055, India of Longitude : 78.4374032\n",
      "Info: Loaction Bolarum to Kompally Road, Brindavan Colony, Ward 133 Macha Bolarum, Greater Hyderabad Municipal Corporation North Zone, Hyderabad, Alwal mandal, Medchal–Malkajgiri, Telangana, 500100, India of Longitude : 78.5045289\n",
      "Info: Loaction Sitafalmandi, Sitafalmandi Flyover, Ward 144 Mettuguda, Greater Hyderabad Municipal Corporation North Zone, Hyderabad, Maredpally mandal, Hyderabad, Telangana, 500061, India of Longitude : 78.5207231\n",
      "Info: Loaction SBH Colony, Trimulgherry, Secunderabad, Tirumalgiri mandal, Hyderabad, Telangana, 500003, India of Longitude : 78.5060831\n",
      "Info: Loaction baghlingampally, 1-8-270, Bagh Lingampally Main Road, Bagh Lingampally, Ward 87 Ramnagar, Greater Hyderabad Municipal Corporation Central Zone, Hyderabad, Himayatnagar mandal, Hyderabad, Telangana, 500053, India of Longitude : 78.4985239\n",
      "Info: Loaction Holiday Inn Express Hyderabad HITEC City, 35, Hitec City Road, Whitefields, Ward 104 Kondapur, Greater Hyderabad Municipal Corporation West Zone, Hyderabad, Serilingampalle mandal, Rangareddy, Telangana, 500081, India of Longitude : 78.3734735\n",
      "Info: Loaction Nimboliadda, Ward 80 Kachiguda, Greater Hyderabad Municipal Corporation Central Zone, Hyderabad, Nampally mandal, Hyderabad, Telangana, 500027, India of Longitude : 78.4943227\n",
      "Info: Loaction Shivam Temple, Lane C, DD Colony, Ward 84 Bagh Amberpet, Greater Hyderabad Municipal Corporation Central Zone, Hyderabad, Musheerabad mandal, Hyderabad, Telangana, 500044, India of Longitude : 78.5140372\n",
      "Info: Loaction Domalguda, Ward 90 Kavadiguda, Greater Hyderabad Municipal Corporation Central Zone, Hyderabad, Himayatnagar mandal, Hyderabad, Telangana, 500029, India of Longitude : 78.4850003\n",
      "Info: Loaction AC Guards Road, Ward 75 Red Hills, Greater Hyderabad Municipal Corporation Central Zone, Hyderabad, Asifnagar mandal, Hyderabad, Telangana, 500004, India of Longitude : 78.4594139\n",
      "Info: Loaction Saraswathi Nagar Colony Park, Singareni Colony, Ward 38 IS Sadan, Greater Hyderabad Municipal Corporation South Zone, Hyderabad, Saidabad mandal, Hyderabad, Telangana, 500659, India of Longitude : 78.5191857\n",
      "Info: Loaction Kondapur, Greater Hyderabad Municipal Corporation West Zone, Hyderabad, Serilingampalle mandal, Rangareddy, Telangana, 500084, India of Longitude : 78.3730556\n",
      "Info: Loaction Arvind Eye Hospital, Golkonda Road, P&T Colony, Ward 70 Mehdipatnam, Greater Hyderabad Municipal Corporation Central Zone, Hyderabad, Asifnagar mandal, Hyderabad, Telangana, 500028, India of Longitude : 78.4378043\n",
      "Info: Loaction Puppalaguda village, Manikonda, Gandipet mandal, Rangareddy, Telangana, 500089, India of Longitude : 78.3861896794107\n",
      "Info: Loaction Maple Town Villas, Radha Realty Maple Town Villas, Ward 60 Rajendra Nagar, Greater Hyderabad Municipal Corporation South Zone, Hyderabad, Gandipet mandal, Rangareddy, Telangana, 500093, India of Longitude : 78.4003353305574\n",
      "Info: Loaction Anjaneya (Hanuman) Temple, Road No. 12, Sri Ram Nagar Colony, Ward 93 Banjara Hills, Greater Hyderabad Municipal Corporation Central Zone, Hyderabad, Shaikpet mandal, Hyderabad, Telangana, 34500034, India of Longitude : 78.4370918784382\n",
      "Info: Loaction Chandulal Baradari, Ward 53 Doodh Bowli, Greater Hyderabad Municipal Corporation South Zone, Hyderabad, Bahadurpura mandal, Hyderabad, Telangana, 500064, India of Longitude : 78.4603915\n",
      "Info: Loaction New Nagole Main Road, Raghavendra Nagar, Ward 21 Kothapet, Greater Hyderabad Municipal Corporation East Zone, Hyderabad, Uppal mandal, Medchal–Malkajgiri, Telangana, 500060, India of Longitude : 78.5548104\n",
      "Info: Loaction Saroor Nagar, Greater Hyderabad Municipal Corporation East Zone, Hyderabad, Saroornagar mandal, Rangareddy, Telangana, 50003, India of Longitude : 78.5318948\n",
      "Info: Loaction Qutubullapur, Greater Hyderabad Municipal Corporation North Zone, Hyderabad, Quthbullapur mandal, Medchal–Malkajgiri, Telangana, 500067, India of Longitude : 78.4589164\n",
      "Info: Loaction Sai Ram Nagar, Ward 140 Malkajgiri, Greater Hyderabad Municipal Corporation North Zone, Hyderabad, Malkajgiri mandal, Medchal–Malkajgiri, Telangana, 500056, India of Longitude : 78.5355849\n",
      "Info: Loaction Gangaram, Ward 109 Hafeezpet, Greater Hyderabad Municipal Corporation West Zone, Hyderabad, Serilingampalle mandal, Rangareddy, Telangana, 500050, India of Longitude : 78.3295685\n",
      "Info: Loaction Sharadha (karur vysya kamaan), Sainikpuri-ECIL Main Road, Vijayapuri, Ward 2 Dr A S Rao Nagar, Greater Hyderabad Municipal Corporation East Zone, Hyderabad, Kapra mandal, Medchal–Malkajgiri, Telangana, 500062, India of Longitude : 78.5543219\n",
      "Info: Loaction Hyderabad House, NH44, Madhura Nagar, Shamshabad, Shamshabad mandal, Rangareddy, Telangana, 509218, India of Longitude : 78.3863347\n",
      "Info: Loaction bk guda rd, Srinivas Nagar, Ward 98 Ameerpet, Greater Hyderabad Municipal Corporation Central Zone, Hyderabad, Ameerpet mandal, Hyderabad, Telangana, 500038, India of Longitude : 78.4467701\n",
      "Info: Loaction Maruthi Nagar, Ward 14 BN Reddy Nagar, Greater Hyderabad Municipal Corporation East Zone, Hyderabad, Hayathnagar mandal, Rangareddy, Telangana, 500070, India of Longitude : 78.5779533\n",
      "Info: Loaction Hanuman Nagar Colony, Ward 143 Tarnaka, Greater Hyderabad Municipal Corporation North Zone, Hyderabad, Maredpally mandal, Hyderabad, Telangana, 500017, India of Longitude : 78.543481\n",
      "Info: Loaction Durga Vihar Colony, Trimulgherry, Secunderabad, Tirumalgiri mandal, Hyderabad, Telangana, 500003, India of Longitude : 78.4999208\n",
      "Info: Loaction Hafeezpet, Ward 107 Madhapur, Greater Hyderabad Municipal Corporation West Zone, Hyderabad, Serilingampalle mandal, Rangareddy, Telangana, 500049, India of Longitude : 78.3613099\n",
      "Info: Loaction Aghapura, Ward 77 Jambagh, Greater Hyderabad Municipal Corporation Central Zone, Hyderabad, Nampally mandal, Hyderabad, Telangana, 500002, India of Longitude : 78.4652731\n",
      "Info: Loaction Hyderabad Elevated Expressway  P.V. Narasimha Rao, W Mahmood Nagar, Ward 57 Suleman Nagar, Greater Hyderabad Municipal Corporation South Zone, Hyderabad, Rajendranagar mandal, Hyderabad, Telangana, 500052, India of Longitude : 78.4249793\n",
      "Info: Loaction OU Staff Colony, Ward 94 Shaikpet, Greater Hyderabad Municipal Corporation Central Zone, Hyderabad, Gandipet mandal, Rangareddy, Telangana, 50008, India of Longitude : 78.3934473\n"
     ]
    },
    {
     "name": "stdout",
     "output_type": "stream",
     "text": [
      "Info: Loaction Ward 69 Nanal Nagar, Greater Hyderabad Municipal Corporation Central Zone, Hyderabad, Shaikpet mandal, Hyderabad, Telangana, India of Longitude : 78.4309523100127\n",
      "Info: Loaction Balkampet, Greater Hyderabad Municipal Corporation Central Zone, Hyderabad, Ameerpet mandal, Hyderabad, Telangana, 500042, India of Longitude : 78.4504513\n",
      "Info: Loaction KPHB, NH65, Phase 3, Ward 115 Balaji Nagar, Greater Hyderabad Municipal Corporation West Zone, Hyderabad, Kukatpally mandal, Medchal–Malkajgiri, Telangana, 500072, India of Longitude : 78.4008221\n",
      "Info: Loaction Shiva Shakti Nagar, Ward 13 Hayath Nagar, Greater Hyderabad Municipal Corporation East Zone, Hyderabad, Hayathnagar mandal, Rangareddy, Telangana, 501505, India of Longitude : 78.6077951\n",
      "Info: Loaction Masjid Banda, Greater Hyderabad Municipal Corporation West Zone, Hyderabad, Serilingampalle mandal, Rangareddy, Telangana, 500046, India of Longitude : 78.3415168\n",
      "Info: Loaction Ibrahim Bagh, Ward 66 Langar Houz, Greater Hyderabad Municipal Corporation Central Zone, Hyderabad, Gandipet mandal, Rangareddy, Telangana, 500089, India of Longitude : 78.3816605\n",
      "Info: Loaction Jaya Raghavendra Nagar, Ward 7 Chilka Nagar, Greater Hyderabad Municipal Corporation East Zone, Hyderabad, Uppal mandal, Medchal–Malkajgiri, Telangana, 500039, India of Longitude : 78.5576293\n",
      "Info: Loaction Yakutpura, Yakutpura Road, Ward 37 Rein Bazar, Greater Hyderabad Municipal Corporation South Zone, Hyderabad, Charminar mandal, Hyderabad, Telangana, 500065, India of Longitude : 78.4921942\n",
      "Info: Loaction Sri Ashtasakhi Radha Krishna Devasthanam, Ayodhya Enclave, 2nd Lane, Bhudevi Nagar, Ward 135 Venkatapuram, Greater Hyderabad Municipal Corporation North Zone, Hyderabad, Alwal mandal, Medchal–Malkajgiri, Telangana, 500010, India of Longitude : 78.50095705\n",
      "Info: Loaction P&T Colony, Ward 23 Gaddiannaram, Greater Hyderabad Municipal Corporation East Zone, Hyderabad, Saroornagar mandal, Rangareddy, Telangana, 50003, India of Longitude : 78.5285642\n",
      "Info: Loaction Raghavendra Colony, Greater Hyderabad Municipal Corporation West Zone, Hyderabad, Serilingampalle mandal, Rangareddy, Telangana, 500084, India of Longitude : 78.3645752\n",
      "Info: Loaction Swarnadhama Nagar, Ward 119 Old Bowenpally, Greater Hyderabad Municipal Corporation West Zone, Hyderabad, Balanagar mandal, Medchal–Malkajgiri, Telangana, 500067, India of Longitude : 78.4812514\n",
      "Info: Loaction Greater Hyderabad Municipal Corporation North Zone, Shapur Nagar, Quthbullapur mandal, Medchal–Malkajgiri, Telangana, 500055, India of Longitude : 78.4453963\n",
      "Info: Loaction Medak Road, Ward 125 Gajularamaram, Greater Hyderabad Municipal Corporation North Zone, Hyderabad, Dundigal_Gandimaisamma mandal, Medchal–Malkajgiri, Telangana, 5000000, India of Longitude : 78.4243288\n",
      "Info: Loaction Ghansi Bazaar, Ward 49 Ghansi Bazar, Greater Hyderabad Municipal Corporation South Zone, Hyderabad, Bahadurpura mandal, Hyderabad, Telangana, 500012, India of Longitude : 78.4681202\n",
      "Info: Loaction RTC Cross Roads, Golconda X Roads, Azamabad, Ward 87 Ramnagar, Greater Hyderabad Municipal Corporation Central Zone, Hyderabad, Musheerabad mandal, Hyderabad, Telangana, 500020, India of Longitude : 78.4967721\n",
      "Info: Loaction mahindra hills road, Ward 141 Gautham Nagar, Greater Hyderabad Municipal Corporation North Zone, Hyderabad, Malkajgiri mandal, Medchal–Malkajgiri, Telangana, 50004, India of Longitude : 78.5203487\n",
      "Info: Loaction Riyasat Nagar, Ward 40 Riyasat Nagar, Greater Hyderabad Municipal Corporation South Zone, Hyderabad, Bandlaguda mandal, Hyderabad, Telangana, 500058, India of Longitude : 78.4991656\n",
      "Info: Loaction Hyderabad, Zahirabad mandal, Sangareddy, Telangana, 502220, India of Longitude : 77.5898867\n",
      "Info: Loaction Kanchan Bagh, Bandlaguda mandal, Hyderabad, Telangana, 500058, India of Longitude : 78.5099445\n",
      "Info: Loaction Picket, Marredpally, Maredpally mandal, Hyderabad, Telangana, 500009, India of Longitude : 78.4988955\n",
      "Info: Loaction Ayodhya Nagar, Ward 70 Mehdipatnam, Greater Hyderabad Municipal Corporation Central Zone, Hyderabad, Asifnagar mandal, Hyderabad, Telangana, 500028, India of Longitude : 78.4337692\n",
      "Info: Loaction Indira Nagar, Ward 143 Tarnaka, Greater Hyderabad Municipal Corporation North Zone, Hyderabad, Malkajgiri mandal, Medchal–Malkajgiri, Telangana, 500017, India of Longitude : 78.5414124\n",
      "Info: Loaction Narayanguda, Greater Hyderabad Municipal Corporation Central Zone, Hyderabad, Himayatnagar mandal, Hyderabad, Telangana, 500029, India of Longitude : 78.4885006\n",
      "Info: Loaction Metro Cash and Carry, Survey No. 588/1 & 591/1, Inner Ring Road, Saraswati Colony, Ward 10 Uppal, Greater Hyderabad Municipal Corporation East Zone, Hyderabad, Uppal mandal, Medchal–Malkajgiri, Telangana, 500039, India of Longitude : 78.5600446215207\n",
      "Info: Loaction Greater Hyderabad Municipal Corporation North Zone, Shapur Nagar, Quthbullapur mandal, Medchal–Malkajgiri, Telangana, 500055, India of Longitude : 78.4453963\n",
      "Info: Loaction Srinivasa Nagar Colony, Ward 121 Kukatpally, Greater Hyderabad Municipal Corporation West Zone, Hyderabad, Kukatpally mandal, Medchal–Malkajgiri, Telangana, 50, India of Longitude : 78.4155435\n",
      "Info: Loaction Navya Teja Residency, Road No 3, Bhagyanagar Colony, Ward 124 Alwyn Colony, Greater Hyderabad Municipal Corporation West Zone, Hyderabad, Kukatpally mandal, Medchal–Malkajgiri, Telangana, 500072, India of Longitude : 78.404815\n",
      "Info: Loaction Aruna Colony, Ward 68 Tolichowki, Greater Hyderabad Municipal Corporation Central Zone, Hyderabad, Shaikpet mandal, Hyderabad, Telangana, 500008, India of Longitude : 78.4079777\n",
      "Info: Loaction Warasiguda-Parsigutta Road, Ward 146 Boudha Nagar, Greater Hyderabad Municipal Corporation Central Zone, Hyderabad, Musheerabad mandal, Hyderabad, Telangana, 500061, India of Longitude : 78.5128297\n",
      "Info: Loaction Kalyanpuri Community Center, Road No 1, Raghavendra Nagar Colony, Ward 7 Chilka Nagar, Greater Hyderabad Municipal Corporation East Zone, Hyderabad, Uppal mandal, Medchal–Malkajgiri, Telangana, 500039, India of Longitude : 78.5564624\n",
      "Info: Loaction Telecom Nagar, Ward 105 Gachibowli, Greater Hyderabad Municipal Corporation West Zone, Hyderabad, Serilingampalle mandal, Rangareddy, Telangana, HYDERABAD – 500032, India of Longitude : 78.3668158\n",
      "Info: Loaction Maheshwari Nagar, Ward 8 Habsiguda, Greater Hyderabad Municipal Corporation East Zone, Hyderabad, Uppal mandal, Medchal–Malkajgiri, Telangana, 500007, India of Longitude : 78.5407198\n",
      "Info: Loaction Hyderabad, Khairatabad mandal, Hyderabad, Telangana, India of Longitude : 78.4349398685041\n",
      "Info: Loaction Subhash Nagar, Ward 135 Venkatapuram, Greater Hyderabad Municipal Corporation North Zone, Hyderabad, Alwal mandal, Medchal–Malkajgiri, Telangana, 500010, India of Longitude : 78.5011252\n",
      "Info: Loaction Shivaji Nagar, Ward 48 Shalibanda, Greater Hyderabad Municipal Corporation South Zone, Hyderabad, Bandlaguda mandal, Hyderabad, Telangana, 500005, India of Longitude : 78.4737879\n",
      "Info: Loaction Edi Bazaar, Ward 36 Lalithabagh, Greater Hyderabad Municipal Corporation South Zone, Hyderabad, Charminar mandal, Hyderabad, Telangana, 500065, India of Longitude : 78.4911005\n",
      "Info: Loaction Gudimalkapur, Greater Hyderabad Municipal Corporation Central Zone, Hyderabad, Asifnagar mandal, Hyderabad, Telangana, 500028, India of Longitude : 78.4371165\n",
      "Info: Loaction കോടി, Greater Hyderabad Municipal Corporation Central Zone, Hyderabad, Nampally mandal, Hyderabad, Telangana, 500 095, India of Longitude : 78.4836642\n",
      "Info: Loaction Tukaram Gate, Marredpally-Tukaram Gate main road, Fateh Nagar, Ward 142 Addagutta, Greater Hyderabad Municipal Corporation North Zone, Hyderabad, Maredpally mandal, Hyderabad, Telangana, 500026, India of Longitude : 78.5222061\n",
      "Info: Loaction Chaitanyapuri, Greater Hyderabad Municipal Corporation East Zone, Hyderabad, Saroornagar mandal, Rangareddy, Telangana, 500035, India of Longitude : 78.5362644\n",
      "Info: Loaction Kandikal Gate Rd, Gowlipura, Ward 35 Gowlipura, Greater Hyderabad Municipal Corporation South Zone, Hyderabad, Bandlaguda mandal, Hyderabad, Telangana, 500005, India of Longitude : 78.4796975\n",
      "Info: Loaction Secretariat Board of Revenue, Thandi Sarak, Eidgah Colony, حیدرآباد, Tando Muhammad Khan District, سنڌ, 7100, پاکستان of Longitude : 68.3488647\n"
     ]
    },
    {
     "name": "stdout",
     "output_type": "stream",
     "text": [
      "Info: Loaction Hyderabad, Hashmatpet Road, Manovikas Nagar, Gunrock Enclave, Secunderabad, Tirumalgiri mandal, Hyderabad, Telangana, 500015, India of Longitude : 78.4924365\n",
      "Info: Loaction Sharada Nagar, Ward 13 Hayath Nagar, Greater Hyderabad Municipal Corporation East Zone, Hyderabad, Hayathnagar mandal, Rangareddy, Telangana, 500070, India of Longitude : 78.585224\n",
      "Info: Loaction Mythri Vihar, Ward 13 Hayath Nagar, Greater Hyderabad Municipal Corporation East Zone, Hyderabad, Hayathnagar mandal, Rangareddy, Telangana, 501505, India of Longitude : 78.604374\n",
      "Info: Loaction Mailardevpally, Greater Hyderabad Municipal Corporation South Zone, Hyderabad, Rajendranagar mandal, Rangareddy, Telangana, 500052, India of Longitude : 78.4460585\n",
      "Info: Loaction Nandagiri Hills, Ward 95 Jubilee Hills, Greater Hyderabad Municipal Corporation Central Zone, Hyderabad, Shaikpet mandal, Hyderabad, Telangana, 500110, India of Longitude : 78.406941\n",
      "Info: Loaction Kavuri Hills, Ward 104 Kondapur, Greater Hyderabad Municipal Corporation West Zone, Hyderabad, Serilingampalle mandal, Rangareddy, Telangana, 996544, India of Longitude : 78.3944107\n",
      "Info: Loaction Gulzar houz (fountain), NH765, Riqab Gunj, Ward 49 Ghansi Bazar, Greater Hyderabad Municipal Corporation South Zone, Hyderabad, Bahadurpura mandal, Hyderabad, Telangana, 500012, India of Longitude : 78.4749992\n",
      "Info: Loaction Vikrampuri, Ward 8 Habsiguda, Greater Hyderabad Municipal Corporation East Zone, Hyderabad, Uppal mandal, Medchal–Malkajgiri, Telangana, 500007, India of Longitude : 78.5455538\n",
      "Info: Loaction Begumpet, Greater Hyderabad Municipal Corporation North Zone, Hyderabad, Balanagar mandal, Medchal–Malkajgiri, Telangana, 500016, India of Longitude : 78.4624821\n",
      "Info: Loaction road number 2, Ward 136 Neredmet, Greater Hyderabad Municipal Corporation North Zone, Hyderabad, Malkajgiri mandal, Medchal–Malkajgiri, Telangana, 500056, India of Longitude : 78.5434749\n",
      "Info: Loaction Cyber Towers - Madhapur Main Road, Kavuri Hills, Ward 104 Kondapur, Greater Hyderabad Municipal Corporation West Zone, Hyderabad, Serilingampalle mandal, Rangareddy, Telangana, 500081, India of Longitude : 78.3872744\n",
      "Info: Loaction Mallapur, Ward 5 Mallapur, Greater Hyderabad Municipal Corporation East Zone, Hyderabad, Uppal mandal, Medchal–Malkajgiri, Telangana, 500092, India of Longitude : 78.5788551\n",
      "Info: Loaction Silpa Park Road, Izzat Nagar, Ward 107 Madhapur, Greater Hyderabad Municipal Corporation West Zone, Hyderabad, Serilingampalle mandal, Rangareddy, Telangana, 500084, India of Longitude : 78.3686562\n",
      "Info: Loaction Hanumanpet, mahindra hills road, Ward 141 Gautham Nagar, Greater Hyderabad Municipal Corporation North Zone, Hyderabad, Malkajgiri mandal, Medchal–Malkajgiri, Telangana, 50004, India of Longitude : 78.5265298\n",
      "Info: Loaction Kamala Nagar, Ward 13 Hayath Nagar, Greater Hyderabad Municipal Corporation East Zone, Hyderabad, Hayathnagar mandal, Rangareddy, Telangana, 500070, India of Longitude : 78.5770152\n",
      "Info: Loaction SR Nagar, Greater Hyderabad Municipal Corporation Central Zone, Hyderabad, Ameerpet mandal, Hyderabad, Telangana, 500038, India of Longitude : 78.4449117\n",
      "Info: Loaction Mohammed Nagar, Ward 57 Suleman Nagar, Greater Hyderabad Municipal Corporation South Zone, Hyderabad, Rajendranagar mandal, Rangareddy, Telangana, 500052, India of Longitude : 78.4342865\n",
      "Info: Loaction Hotel Paigah, Sardar Patel Road, Bapu Bagh Colony, Secunderabad mandal, Hyderabad, Telangana, 500003, India of Longitude : 78.4831791100064\n",
      "Info: Loaction Kismatpur Road, Poorna Grdens, Ward 60 Rajendra Nagar, Greater Hyderabad Municipal Corporation South Zone, Hyderabad, Gandipet mandal, Rangareddy, Telangana, 500086, India of Longitude : 78.3850246\n",
      "Info: Loaction surya medicals, Mahatma Gandhi Road, Jawahar Nagar Colony, Ward 148 Ramgopalpet, Greater Hyderabad Municipal Corporation North Zone, Hyderabad, Secunderabad mandal, Hyderabad, Telangana, 500003, India of Longitude : 78.48891905\n",
      "Info: Loaction Nallakunta, Greater Hyderabad Municipal Corporation Central Zone, Hyderabad, Amberpet mandal, Hyderabad, Telangana, 500044, India of Longitude : 78.50557\n",
      "Info: Loaction road number 1, Ward 133 Macha Bolarum, Greater Hyderabad Municipal Corporation North Zone, Hyderabad, Alwal mandal, Medchal–Malkajgiri, Telangana, 500010, India of Longitude : 78.5123059\n",
      "Info: Loaction Journalist Colony, Ward 95 Jubilee Hills, Greater Hyderabad Municipal Corporation Central Zone, Hyderabad, Shaikpet mandal, Hyderabad, Telangana, 500110, India of Longitude : 78.4087407\n",
      "Info: Loaction Sriram Nagar, Ward 120 Balanagar, Greater Hyderabad Municipal Corporation West Zone, Hyderabad, Kukatpally mandal, Medchal–Malkajgiri, Telangana, 50, India of Longitude : 78.4288794\n",
      "Info: Loaction Gowliguda, Ward 50 Begum Bazar, Greater Hyderabad Municipal Corporation Central Zone, Hyderabad, Nampally mandal, Hyderabad, Telangana, 500012, India of Longitude : 78.4787716\n",
      "Info: Loaction Hyderabad, Khairatabad mandal, Hyderabad, Telangana, India of Longitude : 78.4349398685041\n",
      "Info: Loaction Ward 148 Ramgopalpet, Greater Hyderabad Municipal Corporation North Zone, Hyderabad, Secunderabad mandal, Hyderabad, Telangana, India of Longitude : 78.4886025603458\n",
      "Info: Loaction Greater Hyderabad Municipal Corporation West Zone, Gowlidoddi, Serilingampalle mandal, Rangareddy, Telangana, 500 032, India of Longitude : 78.3256333\n",
      "Info: Loaction SS Nagar, Ward 8 Habsiguda, Greater Hyderabad Municipal Corporation East Zone, Hyderabad, Uppal mandal, Medchal–Malkajgiri, Telangana, 500013, India of Longitude : 78.5440017\n",
      "Info: Loaction Red Hills, Ward 75 Red Hills, Greater Hyderabad Municipal Corporation Central Zone, Hyderabad, Nampally mandal, Hyderabad, Telangana, 500004, India of Longitude : 78.4642498\n",
      "Info: Loaction Prakash Nagar Colony, Vinayak Nagar Colony, Ward 109 Hafeezpet, Greater Hyderabad Municipal Corporation West Zone, Hyderabad, Serilingampalle mandal, Rangareddy, Telangana, 500049, India of Longitude : 78.3550565\n",
      "Info: Loaction Kavuri Hills, Ward 104 Kondapur, Greater Hyderabad Municipal Corporation West Zone, Hyderabad, Serilingampalle mandal, Rangareddy, Telangana, 996544, India of Longitude : 78.3944107\n",
      "Info: Loaction venkat rao nagar colony road, Krishna Nagar Colony, Ward 148 Ramgopalpet, Greater Hyderabad Municipal Corporation North Zone, Hyderabad, Secunderabad mandal, Hyderabad, Telangana, 500003, India of Longitude : 78.4833654\n",
      "Info: Loaction Padma Colony, Ward 85 Adikmet, Greater Hyderabad Municipal Corporation Central Zone, Hyderabad, Amberpet mandal, Hyderabad, Telangana, 500044, India of Longitude : 78.5063421\n",
      "Info: Loaction Malakpet, Greater Hyderabad Municipal Corporation South Zone, Hyderabad, Amberpet mandal, Hyderabad, Telangana, 500024, India of Longitude : 78.4996484\n",
      "Info: Loaction APHB Colony, Ward 4 Meerpet H.B Colony, Greater Hyderabad Municipal Corporation East Zone, Hyderabad, Uppal mandal, Medchal–Malkajgiri, Telangana, 500040, India of Longitude : 78.5628533\n",
      "Info: Loaction Jawahar Nagar, Greater Hyderabad Municipal Corporation Central Zone, Hyderabad, Musheerabad mandal, Hyderabad, Telangana, 500020, India of Longitude : 78.4928021\n"
     ]
    }
   ],
   "source": [
    "long = loc.apply(log)"
   ]
  },
  {
   "cell_type": "code",
   "execution_count": 38,
   "metadata": {},
   "outputs": [
    {
     "data": {
      "text/plain": [
       "0      78.482842\n",
       "1            NaN\n",
       "2            NaN\n",
       "3      78.351964\n",
       "4      78.206896\n",
       "5      78.373056\n",
       "6      78.400654\n",
       "7      78.444671\n",
       "8      78.385378\n",
       "9      78.339140\n",
       "10     78.386190\n",
       "11           NaN\n",
       "12     78.551094\n",
       "13           NaN\n",
       "14     78.340552\n",
       "15           NaN\n",
       "16     78.290575\n",
       "17           NaN\n",
       "18           NaN\n",
       "19     78.578576\n",
       "20     78.540798\n",
       "21     78.302772\n",
       "22           NaN\n",
       "23           NaN\n",
       "24           NaN\n",
       "25           NaN\n",
       "26     77.756920\n",
       "27     78.147715\n",
       "28           NaN\n",
       "29           NaN\n",
       "         ...    \n",
       "905    78.428879\n",
       "906    78.478772\n",
       "907          NaN\n",
       "908          NaN\n",
       "909    78.434940\n",
       "910    78.488603\n",
       "911    78.325633\n",
       "912          NaN\n",
       "913    78.544002\n",
       "914          NaN\n",
       "915    78.464250\n",
       "916          NaN\n",
       "917          NaN\n",
       "918          NaN\n",
       "919          NaN\n",
       "920          NaN\n",
       "921          NaN\n",
       "922          NaN\n",
       "923          NaN\n",
       "924    78.355057\n",
       "925    78.394411\n",
       "926          NaN\n",
       "927          NaN\n",
       "928          NaN\n",
       "929    78.483365\n",
       "930          NaN\n",
       "931    78.506342\n",
       "932    78.499648\n",
       "933    78.562853\n",
       "934    78.492802\n",
       "Length: 935, dtype: float64"
      ]
     },
     "execution_count": 38,
     "metadata": {},
     "output_type": "execute_result"
    }
   ],
   "source": [
    "long"
   ]
  },
  {
   "cell_type": "code",
   "execution_count": null,
   "metadata": {},
   "outputs": [],
   "source": [
    "lati = pd.Series(loc)\n"
   ]
  },
  {
   "cell_type": "code",
   "execution_count": 54,
   "metadata": {},
   "outputs": [],
   "source": [
    "def generateBaseMap(default_location=[17.38878595,78.4610647345315], default_zoom_start=11):\n",
    "    base_map = folium.Map(location=default_location, control_scale=True, zoom_start=default_zoom_start)\n",
    "    return base_map"
   ]
  },
  {
   "cell_type": "code",
   "execution_count": 55,
   "metadata": {},
   "outputs": [
    {
     "data": {
      "text/html": [
       "<div style=\"width:100%;\"><div style=\"position:relative;width:100%;height:0;padding-bottom:60%;\"><iframe src=\"data:text/html;charset=utf-8;base64,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\" style=\"position:absolute;width:100%;height:100%;left:0;top:0;border:none !important;\" allowfullscreen webkitallowfullscreen mozallowfullscreen></iframe></div></div>"
      ],
      "text/plain": [
       "<folium.folium.Map at 0x7f34b6fcaf28>"
      ]
     },
     "execution_count": 55,
     "metadata": {},
     "output_type": "execute_result"
    }
   ],
   "source": [
    "basemap = generateBaseMap()\n",
    "basemap"
   ]
  },
  {
   "cell_type": "code",
   "execution_count": 56,
   "metadata": {},
   "outputs": [],
   "source": [
    "from folium.plugins import HeatMap\n"
   ]
  },
  {
   "cell_type": "code",
   "execution_count": 61,
   "metadata": {},
   "outputs": [
    {
     "name": "stdout",
     "output_type": "stream",
     "text": [
      "INFO : Length of data 22700\n"
     ]
    }
   ],
   "source": [
    "data_cl = pd.read_csv('./real_lat_long.csv',index_col=0)\n",
    "data_cl.head()\n",
    "print(\"INFO : Length of data {}\".format(len(data_cl)))"
   ]
  },
  {
   "cell_type": "code",
   "execution_count": 62,
   "metadata": {},
   "outputs": [
    {
     "data": {
      "text/plain": [
       "Index(['title', 'location', 'price(L)', 'rate_persqft', 'area_insqft',\n",
       "       'building_status', 'agent_rating', 'longitude', 'latitude'],\n",
       "      dtype='object')"
      ]
     },
     "execution_count": 62,
     "metadata": {},
     "output_type": "execute_result"
    }
   ],
   "source": [
    "data_cl.keys()"
   ]
  },
  {
   "cell_type": "code",
   "execution_count": 66,
   "metadata": {},
   "outputs": [],
   "source": [
    "by = data_cl[['latitude', 'longitude', 'area_insqft']].groupby(['latitude', 'longitude']).sum().reset_index().values.tolist()"
   ]
  },
  {
   "cell_type": "code",
   "execution_count": 63,
   "metadata": {},
   "outputs": [
    {
     "data": {
      "text/plain": [
       "<folium.plugins.heat_map.HeatMap at 0x7f34a279b7f0>"
      ]
     },
     "execution_count": 63,
     "metadata": {},
     "output_type": "execute_result"
    }
   ],
   "source": [
    "base_map = generateBaseMap()\n",
    "HeatMap(data=data_cl[['latitude', 'longitude', 'area_insqft']].groupby(['latitude', 'longitude']).sum().reset_index().values.tolist(), radius=8, max_zoom=13).add_to(base_map)"
   ]
  },
  {
   "cell_type": "code",
   "execution_count": null,
   "metadata": {},
   "outputs": [],
   "source": [
    "base_map.add_child(folium.ClickForMarker(popup='Potential Location'))"
   ]
  },
  {
   "cell_type": "code",
   "execution_count": 64,
   "metadata": {},
   "outputs": [],
   "source": [
    "def drawmap(data):\n",
    "    \n",
    "    base_map = generateBaseMap()\n",
    "    x = HeatMap(data, radius=8, max_zoom=13).add_to(base_map)\n",
    "    return x\n",
    "    "
   ]
  },
  {
   "cell_type": "code",
   "execution_count": 67,
   "metadata": {},
   "outputs": [],
   "source": [
    "ht = drawmap(by)"
   ]
  },
  {
   "cell_type": "code",
   "execution_count": 68,
   "metadata": {},
   "outputs": [],
   "source": [
    "filepath = 'map1.html'\n",
    "ht.save(filepath)"
   ]
  },
  {
   "cell_type": "code",
   "execution_count": null,
   "metadata": {},
   "outputs": [],
   "source": []
  },
  {
   "cell_type": "code",
   "execution_count": null,
   "metadata": {},
   "outputs": [],
   "source": [
    "df_hour_list = []\n",
    "for hour in df_copy.hour.sort_values().unique():\n",
    "    df_hour_list.append(df_copy.loc[df_copy.hour == hour, ['pickup_latitude', 'pickup_longitude', 'count']].groupby(['pickup_latitude', 'pickup_longitude']).sum().reset_index().values.tolist())"
   ]
  },
  {
   "cell_type": "code",
   "execution_count": null,
   "metadata": {},
   "outputs": [],
   "source": [
    "from folium.plugins import HeatMapWithTime\n",
    "base_map = generateBaseMap(default_zoom_start=11)\n",
    "HeatMapWithTime(df_hour_list, radius=5, gradient={0.2: 'blue', 0.4: 'lime', 0.6: 'orange', 1: 'red'}, min_opacity=0.5, max_opacity=0.8, use_local_extrema=True).add_to(base_map)\n",
    "base_map"
   ]
  }
 ],
 "metadata": {
  "kernelspec": {
   "display_name": "Python 3",
   "language": "python",
   "name": "python3"
  },
  "language_info": {
   "codemirror_mode": {
    "name": "ipython",
    "version": 3
   },
   "file_extension": ".py",
   "mimetype": "text/x-python",
   "name": "python",
   "nbconvert_exporter": "python",
   "pygments_lexer": "ipython3",
   "version": "3.7.3"
  }
 },
 "nbformat": 4,
 "nbformat_minor": 2
}
